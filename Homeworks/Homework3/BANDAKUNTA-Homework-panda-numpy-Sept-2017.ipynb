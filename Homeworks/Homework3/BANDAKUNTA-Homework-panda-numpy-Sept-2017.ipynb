{
 "cells": [
  {
   "cell_type": "markdown",
   "metadata": {},
   "source": [
    "# Homework 3  - Tryout pandas and numpy  "
   ]
  },
  {
   "cell_type": "markdown",
   "metadata": {},
   "source": [
    "## Homework 3.1\n",
    "\n",
    "### 3.1.a\n",
    "Load the data from: http://opendata.dc.gov/datasets that I have include in this github   \n",
    "into a dataframe.  ( The file has been is available in directory ./data/ccp_current_csv.csv )"
   ]
  },
  {
   "cell_type": "code",
   "execution_count": 20,
   "metadata": {},
   "outputs": [
    {
     "name": "stdout",
     "output_type": "stream",
     "text": [
      "                 STREET QUADRANT            FROMINTERSECTION  \\\n",
      "0               13th St       NW                  Kennedy St   \n",
      "1                  S St       NW            North Capitol St   \n",
      "2      Rhode Island Ave       NE            Brentwood Rd (W)   \n",
      "3               Mill Rd       NW                     27th St   \n",
      "4      Rhode Island Ave       NE            Brentwood Rd (M)   \n",
      "5             Mellon St       SE                      5th St   \n",
      "6          Nebraska Ave       NW              Northampton St   \n",
      "7           Military Rd       NW                     30th St   \n",
      "8          Nebraska Ave       NW                   Oliver St   \n",
      "9               16th St       NW                  Alaska Ave   \n",
      "10         Shoemaker St       NW                 Linnean Ave   \n",
      "11         Underwood St       NW             Piney Branch Rd   \n",
      "12             Elder St       NW                      7th St   \n",
      "13              26th St       NW              Northampton St   \n",
      "14               4th St       NW              Madison St (N)   \n",
      "15         Underwood Pl       NW            North Capitol St   \n",
      "16              20th St       NW                 Columbia Rd   \n",
      "17          Quintana Pl       NE                      3rd St   \n",
      "18         Tuckerman St       NE                  Kansas Ave   \n",
      "19              Eads St       NE                     45th St   \n",
      "20               4th St       SE                  Newcomb St   \n",
      "21              Belt Rd       NW                  Jenifer St   \n",
      "22            Oneida St       NE           New Hampshire Ave   \n",
      "23      Carrollsburg Pl       SW                        O St   \n",
      "24              23rd St       NW          Washington Cir (N)   \n",
      "25           Kanawha St       NW                    Utah Ave   \n",
      "26      Piney Branch Rd       NW                Underwood St   \n",
      "27              30th St       NW               Stephenson Pl   \n",
      "28              32nd St       NW                 Woodland Dr   \n",
      "29              33rd St       NW            Broad Branch Ter   \n",
      "..                  ...      ...                         ...   \n",
      "435      New Jersey Ave       NW                        F St   \n",
      "436             15th St       NE                     Ames Pl   \n",
      "437     East Capitol St       BN                        C St   \n",
      "438         Randolph St       NE                     25th Pl   \n",
      "439    South Dakota Ave       NE                Delafield St   \n",
      "440          Wheeler Rd       SE                 Congress St   \n",
      "441      New Jersey Ave       NW                        H St   \n",
      "442     Mount Olivet Rd       NE               Brentwood Pky   \n",
      "443              Oak St       NW                     16th St   \n",
      "444        Michigan Ave       NE                     14th St   \n",
      "445                C St       NE                     20th St   \n",
      "446        Virginia Ave       SE                  6th St (S)   \n",
      "447              Oak St       NW                Brown St (N)   \n",
      "448         Florida Ave       NE                New York Ave   \n",
      "449  North Carolina Ave       NE         East Capitol St (E)   \n",
      "450            Elder St       NW                      8th St   \n",
      "451          Benning Rd       SE                        G St   \n",
      "452           School St       SW                      4th St   \n",
      "453             18th St       NW                        M St   \n",
      "454       Longfellow St       NW                     16th St   \n",
      "455             10th St       NW                        M St   \n",
      "456          Woodley Rd       NW             Connecticut Ave   \n",
      "457          Woodley Rd       NW           Cathedral Ave (E)   \n",
      "458              3rd St       SW            Independence Ave   \n",
      "459             16th St       NW                 Primrose Rd   \n",
      "460          Woodley Rd       NW                  Woodley Pl   \n",
      "461         Western Ave       NW         Chevy Chase Cir (E)   \n",
      "462             49th St       NW                   Fulton St   \n",
      "463       Quackenbos St       NE           New Hampshire Ave   \n",
      "464    North Capitol St       BN  Hawaii Ave  Rock Creek Chu   \n",
      "\n",
      "                 TOINTERSECTION  NOOFBLOCKS                 WORKDESCRIPTION  \\\n",
      "0                 Longfellow St           1  Pavement Resurface/restoration   \n",
      "1                        3rd St           3                   Regular Cover   \n",
      "2              Brentwood Rd (M)           1  Pavement Resurface/restoration   \n",
      "3                    Cul De Sac           1  Pavement Resurface/restoration   \n",
      "4    14th St  Evarts St  Montan           2  Pavement Resurface/restoration   \n",
      "5     Martin Luther King Jr Ave           1  Pavement Resurface/restoration   \n",
      "6                     Oliver St           1  Pavement Resurface/restoration   \n",
      "7               Broad Branch Rd           4  Pavement Resurface/restoration   \n",
      "8                      Utah Ave           1  Pavement Resurface/restoration   \n",
      "9                   Primrose Rd          13                  Reconstruction   \n",
      "10                    Tilden St           1                       Upgrading   \n",
      "11              Georgia Ave (S)           1                  Reconstruction   \n",
      "12                       8th St           1                   Regular Cover   \n",
      "13               Rittenhouse St           1                   Regular Cover   \n",
      "14                   Peabody St           5                   Regular Cover   \n",
      "15                       1st St           1  Pavement Resurface/restoration   \n",
      "16                  Wyoming Ave           1  Pavement Resurface/restoration   \n",
      "17                  Eastern Ave           1  Pavement Resurface/restoration   \n",
      "18                  Eastern Ave           1                  Reconstruction   \n",
      "19                      47th St           1  Pavement Resurface/restoration   \n",
      "20                    Orange St           2  Pavement Resurface/restoration   \n",
      "21                  Military Rd           1                  Reconstruction   \n",
      "22                       6th St           2                   Regular Cover   \n",
      "23                         P St           1  Pavement Resurface/restoration   \n",
      "24                         M St           2  Pavement Resurface/restoration   \n",
      "25                      30th St           2                  Reconstruction   \n",
      "26                   Venable Pl           2  Pavement Resurface/restoration   \n",
      "27                  Tennyson St           1                   Regular Cover   \n",
      "28                Cleveland Ave           1                   Regular Cover   \n",
      "29                  Linnean Ter           1                   Regular Cover   \n",
      "..                          ...         ...                             ...   \n",
      "435                        G St           2  Pavement Resurface/restoration   \n",
      "436            Constitution Ave           1  Pavement Resurface/restoration   \n",
      "437           Anacostia Fwy (E)           2  Pavement Resurface/restoration   \n",
      "438                     26th St           1  Pavement Resurface/restoration   \n",
      "439                    Riggs Rd          10         Federal Aid Resurfacing   \n",
      "440                 Congress St           0             Traffic Signal Work   \n",
      "441                        I St           1  Pavement Resurface/restoration   \n",
      "442           West Virginia Ave           5  Pavement Resurface/restoration   \n",
      "443                Brown St (S)           1  Pavement Resurface/restoration   \n",
      "444                     16th St           1  Pavement Resurface/restoration   \n",
      "445                     22nd St           1  Pavement Resurface/restoration   \n",
      "446                  7th St (S)           1  Pavement Resurface/restoration   \n",
      "447                  Cul De Sac           1  Pavement Resurface/restoration   \n",
      "448                        O St           1  Pavement Resurface/restoration   \n",
      "449                     13th St           1  Pavement Resurface/restoration   \n",
      "450                 Georgia Ave           2  Pavement Resurface/restoration   \n",
      "451                        G St           0      High Accident Intersection   \n",
      "452                      6th St           1  Pavement Resurface/restoration   \n",
      "453  Connecticut Ave  Jefferson           1  Pavement Resurface/restoration   \n",
      "454                  Cul De Sac           1  Pavement Resurface/restoration   \n",
      "455                        N St           1  Pavement Resurface/restoration   \n",
      "456        29th St  Garfield St           3           Street Light Projects   \n",
      "457           Cathedral Ave (E)           0           Street Light Projects   \n",
      "458                        C St           1           Street Light Projects   \n",
      "459               Maryland Line           5                       Upgrading   \n",
      "460             Connecticut Ave           1           Street Light Projects   \n",
      "461                 Chestnut St          19         Federal Aid Resurfacing   \n",
      "462                 Garfield St           1  Pavement Resurface/restoration   \n",
      "463                 Eastern Ave           2  Pavement Resurface/restoration   \n",
      "464                 Buchanan St           1  Pavement Resurface/restoration   \n",
      "\n",
      "     YEARBUDGETED  PERCENTCOMPLETED     STATUS  MILES      ...       \\\n",
      "0            2004               100  Completed   0.07      ...        \n",
      "1            1999               100  Completed   0.33      ...        \n",
      "2            2004               100  Completed   0.09      ...        \n",
      "3            2004               100  Completed   0.07      ...        \n",
      "4            2005               100  Completed   0.16      ...        \n",
      "5            2005               100  Completed   0.20      ...        \n",
      "6            2004               100  Completed   0.07      ...        \n",
      "7            2004               100  Completed   0.35      ...        \n",
      "8            2005               100  Completed   0.04      ...        \n",
      "9            1999               100  Completed   0.97      ...        \n",
      "10           2004               100  Completed   0.06      ...        \n",
      "11           2004               100  Completed   0.08      ...        \n",
      "12           2004               100  Completed   0.08      ...        \n",
      "13           2004               100  Completed   0.16      ...        \n",
      "14           1999               100  Completed   0.27      ...        \n",
      "15           2004               100  Completed   0.14      ...        \n",
      "16           2004               100  Completed   0.04      ...        \n",
      "17           2004               100  Completed   0.12      ...        \n",
      "18           2004               100  Completed   0.12      ...        \n",
      "19           2005               100  Completed   0.16      ...        \n",
      "20           2005               100  Completed   0.11      ...        \n",
      "21           2004               100  Completed   0.16      ...        \n",
      "22           1999               100  Completed   0.34      ...        \n",
      "23           2004               100  Completed   0.06      ...        \n",
      "24           2004               100  Completed   0.15      ...        \n",
      "25           2004               100  Completed   0.21      ...        \n",
      "26           2004               100  Completed   0.16      ...        \n",
      "27           2004               100  Completed   0.15      ...        \n",
      "28           2004               100  Completed   0.06      ...        \n",
      "29           2004               100  Completed   0.14      ...        \n",
      "..            ...               ...        ...    ...      ...        \n",
      "435          2004               100  Completed   0.07      ...        \n",
      "436          2004               100  Completed   0.04      ...        \n",
      "437          2004               100  Completed   0.52      ...        \n",
      "438          2004               100  Completed   0.05      ...        \n",
      "439          2004               100  Completed   0.68      ...        \n",
      "440          2004               100  Completed   0.00      ...        \n",
      "441          2004               100  Completed   0.08      ...        \n",
      "442             4               100  Completed   0.33      ...        \n",
      "443          2005               100  Completed   0.04      ...        \n",
      "444          2004               100  Completed   0.11      ...        \n",
      "445          2004               100  Completed   0.06      ...        \n",
      "446          2004               100  Completed   0.16      ...        \n",
      "447          2004               100  Completed   0.09      ...        \n",
      "448          2004               100  Completed   0.05      ...        \n",
      "449          2004               100  Completed   0.04      ...        \n",
      "450          2005               100  Completed   0.11      ...        \n",
      "451          2004               100  Completed   0.00      ...        \n",
      "452          2004               100  Completed   0.13      ...        \n",
      "453          2005               100  Completed   0.06      ...        \n",
      "454          2004               100  Completed   0.10      ...        \n",
      "455          2005               100  Completed   0.11      ...        \n",
      "456          2003               100  Completed   0.27      ...        \n",
      "457          2003               100  Completed   0.00      ...        \n",
      "458          2003               100  Completed   0.10      ...        \n",
      "459          2005               100  Completed   0.27      ...        \n",
      "460          2003               100  Completed   0.07      ...        \n",
      "461          2004               100  Completed   1.19      ...        \n",
      "462          2004               100  Completed   0.12      ...        \n",
      "463          2005               100  Completed   0.24      ...        \n",
      "464          2003               100  Completed   0.02      ...        \n",
      "\n",
      "           YCOORD   LATITUDE  LONGITUDE  \\\n",
      "0    143205.11981  38.956747 -77.029694   \n",
      "1    138468.90256  38.914085 -77.012411   \n",
      "2    139574.10659  38.924041 -76.987221   \n",
      "3    138132.90198  38.911046 -77.054077   \n",
      "4    139657.25318  38.924790 -76.985068   \n",
      "5    130948.25958  38.846337 -76.998463   \n",
      "6    144260.95520  38.966246 -77.061675   \n",
      "7    143680.41824  38.961016 -77.062994   \n",
      "8    144332.34858  38.966889 -77.061126   \n",
      "9    145993.53492  38.981864 -77.036344   \n",
      "10   141355.75200  38.940080 -77.052639   \n",
      "11   144524.25789  38.968631 -77.026720   \n",
      "12   145484.90736  38.977286 -77.023701   \n",
      "13   144523.71012  38.968616 -77.055131   \n",
      "14   143645.75015  38.960719 -77.018034   \n",
      "15   144575.76052  38.969098 -77.010335   \n",
      "16   138911.21635  38.918061 -77.045630   \n",
      "17   144049.46375  38.964357 -77.001779   \n",
      "18   144380.43626  38.967338 -77.005814   \n",
      "19   136373.00889  38.895188 -76.936314   \n",
      "20   131031.17766  38.847084 -77.003775   \n",
      "21   143576.29028  38.960067 -77.080944   \n",
      "22   143788.68656  38.962008 -77.002159   \n",
      "23   133852.11487  38.872496 -77.009900   \n",
      "24   137368.33245  38.904161 -77.050114   \n",
      "25   143966.17156  38.963592 -77.058648   \n",
      "26   144641.00247  38.969683 -77.025542   \n",
      "27   144904.92557  38.972048 -77.059057   \n",
      "28   139907.44198  38.927027 -77.063269   \n",
      "29   143174.30874  38.956455 -77.065420   \n",
      "..            ...        ...        ...   \n",
      "435  136662.79676  38.897815 -77.012040   \n",
      "436  135988.53001  38.891741 -76.983645   \n",
      "437  135773.18857  38.889796 -76.963257   \n",
      "438  141101.24934  38.937795 -76.970647   \n",
      "439  142828.69431  38.953360 -76.997760   \n",
      "440  130311.51001  38.840601 -76.993666   \n",
      "441  136989.68608  38.900760 -77.013111   \n",
      "442  138177.81094  38.911463 -76.988473   \n",
      "443  140800.56074  38.935084 -77.036751   \n",
      "444  141629.29443  38.942555 -76.984661   \n",
      "445  136161.74371  38.893300 -76.975688   \n",
      "446  134569.68537  38.878960 -76.997601   \n",
      "447  140870.01258  38.935710 -77.037453   \n",
      "448  137873.16505  38.908719 -77.004188   \n",
      "449  135850.45600  38.890497 -76.988605   \n",
      "450  145484.83613  38.977285 -77.025480   \n",
      "451  134852.81001  38.881492 -76.933040   \n",
      "452  135121.52451  38.883930 -77.018730   \n",
      "453  137578.57894  38.906058 -77.041683   \n",
      "454  143308.79120  38.957679 -77.037145   \n",
      "455  137620.63091  38.906441 -77.025983   \n",
      "456  139776.68682  38.925854 -77.055159   \n",
      "457  139708.16000  38.925239 -77.050146   \n",
      "458  135440.84902  38.886807 -77.015201   \n",
      "459  146987.84913  38.990821 -77.036322   \n",
      "460  139730.94291  38.925443 -77.052011   \n",
      "461  145110.29844  38.973893 -77.068950   \n",
      "462  139891.73363  38.926865 -77.093990   \n",
      "463  143983.75188  38.963765 -77.001975   \n",
      "464  142147.02707  38.947219 -77.008609   \n",
      "\n",
      "                                           PROJECTNOTE  \\\n",
      "0                                                  NaN   \n",
      "1                                                  NaN   \n",
      "2                                                  NaN   \n",
      "3                                  POKA-2003-B-0048-JJ   \n",
      "4                                                  NaN   \n",
      "5                                                  NaN   \n",
      "6                                                  NaN   \n",
      "7                                                  NaN   \n",
      "8                                                  NaN   \n",
      "9    Reconstruction of 16th St. from Alaska to Prim...   \n",
      "10                                                 NaN   \n",
      "11                                                 NaN   \n",
      "12                                                 NaN   \n",
      "13                                                 NaN   \n",
      "14                                                 NaN   \n",
      "15                                                 NaN   \n",
      "16                                 POKA-2003-B-0048-JJ   \n",
      "17                                                 NaN   \n",
      "18                                                 NaN   \n",
      "19                                                 NaN   \n",
      "20                                                 NaN   \n",
      "21                                                 NaN   \n",
      "22                                                 NaN   \n",
      "23                                                 NaN   \n",
      "24                                                 NaN   \n",
      "25                                                 NaN   \n",
      "26                                                 NaN   \n",
      "27                                                 NaN   \n",
      "28                                                 NaN   \n",
      "29                                                 NaN   \n",
      "..                                                 ...   \n",
      "435                                                NaN   \n",
      "436                                                NaN   \n",
      "437                                FY-04 per Sylvester   \n",
      "438                                                NaN   \n",
      "439    Per Berehager  construction will begin in FY-04   \n",
      "440                                                NaN   \n",
      "441                                                NaN   \n",
      "442                                                NaN   \n",
      "443                                POKA-2003-B-0048-JJ   \n",
      "444                                                NaN   \n",
      "445                                                NaN   \n",
      "446                                                NaN   \n",
      "447                                POKA-2003-B-0048-JJ   \n",
      "448                                                NaN   \n",
      "449                                                NaN   \n",
      "450                                                NaN   \n",
      "451                                                NaN   \n",
      "452                                POKA-2003-B-0048-JJ   \n",
      "453                                POKA-2004-B-0016-JJ   \n",
      "454                                                NaN   \n",
      "455                                                NaN   \n",
      "456                                                NaN   \n",
      "457                                                NaN   \n",
      "458                                                NaN   \n",
      "459                                                NaN   \n",
      "460                                                NaN   \n",
      "461                                                NaN   \n",
      "462                                   2nd Aid to State   \n",
      "463                                                NaN   \n",
      "464                                                NaN   \n",
      "\n",
      "                                           PROJECTNAME         PROJECTMGR  \\\n",
      "0                                               FedAid    Paul Stephenson   \n",
      "1                                                  NaN                NaN   \n",
      "2             Fedral Aid Citywide Pavement Restoration  Mohamed Abdullahi   \n",
      "3    Citywide Pavement Restoration Contract (Local ...    Maduabuchi Udeh   \n",
      "4                                                  NaN                NaN   \n",
      "5                                        CIP_2004-2009              FY-05   \n",
      "6                        Citywide Pavement Restoration    Paul Stephenson   \n",
      "7                                       FedAid_6YR_CIP    Paul Stephenson   \n",
      "8                         Citywide Pavement Restoratin    paul Stephenson   \n",
      "9    Recons of 16TH St. from Alaska to Prime Rose  ...   Eskender  Konjit   \n",
      "10                                                 NaN                NaN   \n",
      "11                       Citywide Pavement Restoration    Paul Stephenson   \n",
      "12                                                 NaN                NaN   \n",
      "13                                                 NaN                NaN   \n",
      "14                                                 NaN                NaN   \n",
      "15                       Citywidy Pavement Restoration    Paul Stephenson   \n",
      "16   Citywide Pavement Restoration Contract (Local ...    Maduabuchi Udeh   \n",
      "17                       Citywide Pavement Restoration    Paul Stephenson   \n",
      "18                       Citywide Pavement Restoration    Paul Stephenson   \n",
      "19   CITYWIDE PAVEMENT RESTORATION CONTRACT (LOCAL ...                NaN   \n",
      "20   CITYWIDE PAVEMENT RESTORATION CONTRACT (LOCAL ...                NaN   \n",
      "21                                                 NaN                NaN   \n",
      "22                       Citywide Pavement Restoration    Paul Stephenson   \n",
      "23                                                 NaN              FY-05   \n",
      "24                                                 NaN                NaN   \n",
      "25                                                 NaN                NaN   \n",
      "26                                                 NaN                NaN   \n",
      "27                       Citywide Pavement Restoration    Paul Stephenson   \n",
      "28                                                 NaN                NaN   \n",
      "29                                                 NaN                NaN   \n",
      "..                                                 ...                ...   \n",
      "435           Fedral Aid Citywide Pavement Restoration  Mohamed Abdullahi   \n",
      "436           Fedral Aid Citywide Pavement Restoration  Mohamed Abdullahi   \n",
      "437           Fedral Aid Citywide Pavement Restoration  Mohamed Abdullahi   \n",
      "438           Fedral Aid Citywide Pavement Restoration  Mohamed Abdullahi   \n",
      "439                                     FedAid_6YR_CIP  Abdullahi Mohamed   \n",
      "440                                                NaN    ELIJAH ROBINSON   \n",
      "441           Fedral Aid Citywide Pavement Restoration  Mohamed Abdullahi   \n",
      "442                   Street Resurfacing of Ward 5 & 6  Mohamed Abdullahi   \n",
      "443  Citywide Pavement Restoration Contract (Local ...    Maduabuchi Udeh   \n",
      "444           Fedral Aid Citywide Pavement Restoration  Mohamed Abdullahi   \n",
      "445           Fedral Aid Citywide Pavement Restoration  Mohamed Abdullahi   \n",
      "446           Fedral Aid Citywide Pavement Restoration  Mohamed Abdullahi   \n",
      "447  Citywide Pavement Restoration Contract (Local ...    Maduabuchi Udeh   \n",
      "448           Fedral Aid Citywide Pavement Restoration  Mohamed Abdullahi   \n",
      "449           Fedral Aid Citywide Pavement Restoration  Mohamed Abdullahi   \n",
      "450                      Citywide Pavement Restoration    Paul Stephenson   \n",
      "451                                                NaN                NaN   \n",
      "452  Citywide Pavement Restoration Contract (Local ...    Maduabuchi Udeh   \n",
      "453  Federal Aid City Wide Pavement Restoration Con...    Maduabuchi Udeh   \n",
      "454                      Citywidy Pavement Restoration    Paul Stephenson   \n",
      "455  Federal Aid City Wide Pavement Restoration Con...    Maduabuchi Udeh   \n",
      "456  StreetLight Series Circuit Conversion at 5 Loc...        Mike Dorsey   \n",
      "457  StreetLight Series Circuit Conversion at 5 Loc...        Mike Dorsey   \n",
      "458  StreetLight Series Circuit Conversion at 5 Loc...        Mike Dorsey   \n",
      "459                     Pavement Resurface Restoration    Paul Stephenson   \n",
      "460  StreetLight Series Circuit Conversion at 5 Loc...        Mike Dorsey   \n",
      "461                                     FedAid_6YR_CIP    Paul Stephenson   \n",
      "462                      Citywide Pavement Restoration     Paul Stphenson   \n",
      "463                                                NaN                NaN   \n",
      "464  Rehabilitation of N. Capitol St. from Michigan...    Konjit Eskender   \n",
      "\n",
      "     PROJECTID                TEAMREP                   EMAIL  CONTACTPHONE  \n",
      "0         5834                O. Hill                     NaN  202-671-4591  \n",
      "1         2467                    NaN                     NaN           NaN  \n",
      "2         5486           Said Cherifi     said.cherifi@dc.gov  202-671-4611  \n",
      "3         5796          Michael Jelen    Michael.Jelen@dc.gov  202-671-4542  \n",
      "4         8237                    NaN                     NaN           NaN  \n",
      "5         4175                    NaN                     NaN           NaN  \n",
      "6         5296  M. Howard and O. hill                     NaN  202-671-4591  \n",
      "7         4762                O. Hill                     NaN  202-671-4591  \n",
      "8         7867  M. Howard and O. Hill                     NaN  202-671-4591  \n",
      "9         2349          Porter Curtis    Porter.Curtis@Dc.gov  202-671-4581  \n",
      "10        2605                    NaN                     NaN           NaN  \n",
      "11        2620                    NaN                     NaN           NaN  \n",
      "12        2502                    NaN                     NaN           NaN  \n",
      "13        2474                    NaN                     NaN           NaN  \n",
      "14        2643                    NaN                     NaN           NaN  \n",
      "15        5879                 Rodney                     NaN  202-671-4591  \n",
      "16        3422          Michael Jelen    Michael.Jelen@dc.gov  202-671-4542  \n",
      "17        2621                    NaN                     NaN           NaN  \n",
      "18        2513                    NaN                     NaN  202-671-4594  \n",
      "19        7151                    NaN                     NaN           NaN  \n",
      "20        8740                    NaN                     NaN           NaN  \n",
      "21        2612                    NaN                     NaN           NaN  \n",
      "22        2645                    NaN                     NaN           NaN  \n",
      "23        5063                    NaN                     NaN           NaN  \n",
      "24        5215                    NaN                     NaN           NaN  \n",
      "25        2614                    NaN                     NaN           NaN  \n",
      "26        5299                    NaN                     NaN           NaN  \n",
      "27        2461              M. Howard                     NaN  202-671-4591  \n",
      "28        2466                    NaN                     NaN           NaN  \n",
      "29        2470                    NaN                     NaN           NaN  \n",
      "..         ...                    ...                     ...           ...  \n",
      "435       5668           Said Cherifi     said.cherifi@dc.gov  202-671-4611  \n",
      "436       5574           Said Cherifi     said.cherifi@dc.gov  202-671-4611  \n",
      "437       5142           Said Cherifi     said.cherifi@dc.gov  202-671-4611  \n",
      "438       5485           Said Cherifi     said.cherifi@dc.gov  202-671-4611  \n",
      "439       4769          MORGAN PRINCE    morgan.prince@dc.gov  202-671-4627  \n",
      "440       6058                    NaN                     NaN  202.671.2829  \n",
      "441       5670           Said Cherifi     said.cherifi@dc.gov  202-671-4611  \n",
      "442       8603           Said Cherifi     said.cherifi@dc.gov  202-671-4611  \n",
      "443       5034          Michael Jelen    Michael.Jelen@dc.gov  202-671-4542  \n",
      "444       5480           Said Cherifi     said.cherifi@dc.gov  202-671-4611  \n",
      "445       5675           Said Cherifi     said.cherifi@dc.gov  202-671-4611  \n",
      "446       5674           Said Cherifi     said.cherifi@dc.gov  202-671-4611  \n",
      "447       2810          Michael Jelen    Michael.Jelen@dc.gov  202-671-4542  \n",
      "448       5503           Said Cherifi     said.cherifi@dc.gov  202-671-4611  \n",
      "449       5671           Said Cherifi     said.cherifi@dc.gov  202-671-4611  \n",
      "450       6858           Rodney Olive                     NaN  202-671-4591  \n",
      "451       5394                    NaN                     NaN           NaN  \n",
      "452       4496          Michael Jelen    Michael.Jelen@dc.gov  202-671-4542  \n",
      "453       7624          Michael Jelen    Michael.Jelen@dc.gov  202-671-4542  \n",
      "454       3572               Deguzman                     NaN  202-671-4591  \n",
      "455       7577          Michael Jelen    Michael.Jelen@dc.gov  202-671-4542  \n",
      "456       8704            Mike Dorsey                     NaN           NaN  \n",
      "457       8702                    NaN                     NaN           NaN  \n",
      "458       8713            Mike Dorsey                     NaN           NaN  \n",
      "459       6372          Porter Curtis                     NaN  202-671-4581  \n",
      "460       8703            Mike Dorsey                     NaN           NaN  \n",
      "461       2732           Lennox Bruce      Lennoxbruce@dc.gov  (202)-671-45  \n",
      "462       3948               Deguzman                     NaN  202-671-4591  \n",
      "463       2642                    NaN                     NaN           NaN  \n",
      "464       8543        Stanley Freeman  Stanley.Freeman@dc.gov  202-234-1458  \n",
      "\n",
      "[465 rows x 27 columns]\n"
     ]
    }
   ],
   "source": [
    "import pandas as panda\n",
    "data_sample=panda.read_csv('./data/ccp_current_csv.csv ')\n",
    "print data_sample\n"
   ]
  },
  {
   "cell_type": "markdown",
   "metadata": {},
   "source": [
    "### 3.1.a  what is its shape and what does that mean?"
   ]
  },
  {
   "cell_type": "code",
   "execution_count": 3,
   "metadata": {},
   "outputs": [
    {
     "data": {
      "text/plain": [
       "(465, 27)"
      ]
     },
     "execution_count": 3,
     "metadata": {},
     "output_type": "execute_result"
    }
   ],
   "source": [
    "data_sample.shape"
   ]
  },
  {
   "cell_type": "markdown",
   "metadata": {},
   "source": [
    "## Homework 3.2\n",
    " What are the number of rows in each 'QUADRANT' ?"
   ]
  },
  {
   "cell_type": "code",
   "execution_count": 21,
   "metadata": {},
   "outputs": [
    {
     "data": {
      "text/plain": [
       "NW    195\n",
       "NE    163\n",
       "SE     84\n",
       "BN     12\n",
       "SW     11\n",
       "Name: QUADRANT, dtype: int64"
      ]
     },
     "execution_count": 21,
     "metadata": {},
     "output_type": "execute_result"
    }
   ],
   "source": [
    "data_sample['QUADRANT'].value_counts()"
   ]
  },
  {
   "cell_type": "markdown",
   "metadata": {},
   "source": [
    "## Homework 3.3 - Array math demonstration \n",
    "For two arrarys  \n",
    "\n",
    "a= [1,2,3,4]  type=float\n",
    "\n",
    "b= [5,6,7,8]  type=float\n",
    "\n",
    "Peform the following array operations using numpy   \n",
    "( show both operational use of numpy and functional (example addition operation => + vs addition function => numbpy.add() )\n",
    "\n",
    "### 3.3.1 addition a+b "
   ]
  },
  {
   "cell_type": "code",
   "execution_count": 22,
   "metadata": {},
   "outputs": [
    {
     "name": "stdout",
     "output_type": "stream",
     "text": [
      "[1 2 3 4] [5 6 7 8]\n",
      "[ 6  8 10 12]\n"
     ]
    }
   ],
   "source": [
    "import numpy as np\n",
    "from numpy import array\n",
    "a = array( [1,2,3,4] )\n",
    "b = array([5,6,7,8])\n",
    "print a,b\n",
    "print a+b #operational use\n"
   ]
  },
  {
   "cell_type": "code",
   "execution_count": 23,
   "metadata": {},
   "outputs": [
    {
     "data": {
      "text/plain": [
       "array([ 6,  8, 10, 12])"
      ]
     },
     "execution_count": 23,
     "metadata": {},
     "output_type": "execute_result"
    }
   ],
   "source": [
    "np.add(a,b) #functional use"
   ]
  },
  {
   "cell_type": "markdown",
   "metadata": {},
   "source": [
    "### 3.3.2 subtraction a-b"
   ]
  },
  {
   "cell_type": "code",
   "execution_count": 24,
   "metadata": {},
   "outputs": [
    {
     "data": {
      "text/plain": [
       "array([-4, -4, -4, -4])"
      ]
     },
     "execution_count": 24,
     "metadata": {},
     "output_type": "execute_result"
    }
   ],
   "source": [
    "a-b #operational use"
   ]
  },
  {
   "cell_type": "code",
   "execution_count": 25,
   "metadata": {},
   "outputs": [
    {
     "data": {
      "text/plain": [
       "array([-4, -4, -4, -4])"
      ]
     },
     "execution_count": 25,
     "metadata": {},
     "output_type": "execute_result"
    }
   ],
   "source": [
    "np.subtract(a,b)#functional use"
   ]
  },
  {
   "cell_type": "markdown",
   "metadata": {},
   "source": [
    "### 3.3.3 multiplication a*b"
   ]
  },
  {
   "cell_type": "code",
   "execution_count": 26,
   "metadata": {},
   "outputs": [
    {
     "data": {
      "text/plain": [
       "array([ 5, 12, 21, 32])"
      ]
     },
     "execution_count": 26,
     "metadata": {},
     "output_type": "execute_result"
    }
   ],
   "source": [
    "a*b #operational use"
   ]
  },
  {
   "cell_type": "code",
   "execution_count": 27,
   "metadata": {},
   "outputs": [
    {
     "data": {
      "text/plain": [
       "array([ 5, 12, 21, 32])"
      ]
     },
     "execution_count": 27,
     "metadata": {},
     "output_type": "execute_result"
    }
   ],
   "source": [
    "np.multiply(a,b)#functional use"
   ]
  },
  {
   "cell_type": "markdown",
   "metadata": {},
   "source": [
    "### 3.3.4 divsion a/b"
   ]
  },
  {
   "cell_type": "code",
   "execution_count": 28,
   "metadata": {},
   "outputs": [
    {
     "data": {
      "text/plain": [
       "array([0, 0, 0, 0])"
      ]
     },
     "execution_count": 28,
     "metadata": {},
     "output_type": "execute_result"
    }
   ],
   "source": [
    "a/b #operational use"
   ]
  },
  {
   "cell_type": "code",
   "execution_count": 29,
   "metadata": {},
   "outputs": [
    {
     "data": {
      "text/plain": [
       "array([0, 0, 0, 0])"
      ]
     },
     "execution_count": 29,
     "metadata": {},
     "output_type": "execute_result"
    }
   ],
   "source": [
    "np.divide(a,b) #functional use"
   ]
  },
  {
   "cell_type": "markdown",
   "metadata": {},
   "source": [
    "### 3.3.5 modulo  a%b"
   ]
  },
  {
   "cell_type": "code",
   "execution_count": 30,
   "metadata": {},
   "outputs": [
    {
     "data": {
      "text/plain": [
       "array([1, 2, 3, 4])"
      ]
     },
     "execution_count": 30,
     "metadata": {},
     "output_type": "execute_result"
    }
   ],
   "source": [
    "a%b #operational use"
   ]
  },
  {
   "cell_type": "code",
   "execution_count": 31,
   "metadata": {},
   "outputs": [
    {
     "data": {
      "text/plain": [
       "array([1, 2, 3, 4])"
      ]
     },
     "execution_count": 31,
     "metadata": {},
     "output_type": "execute_result"
    }
   ],
   "source": [
    "np.mod(a,b) #functional use"
   ]
  },
  {
   "cell_type": "markdown",
   "metadata": {},
   "source": [
    "### 3.3.6 power  a^b"
   ]
  },
  {
   "cell_type": "code",
   "execution_count": 33,
   "metadata": {},
   "outputs": [
    {
     "data": {
      "text/plain": [
       "array([    1,    64,  2187, 65536])"
      ]
     },
     "execution_count": 33,
     "metadata": {},
     "output_type": "execute_result"
    }
   ],
   "source": [
    "a**b #operational use"
   ]
  },
  {
   "cell_type": "code",
   "execution_count": 34,
   "metadata": {},
   "outputs": [
    {
     "data": {
      "text/plain": [
       "array([    1,    64,  2187, 65536])"
      ]
     },
     "execution_count": 34,
     "metadata": {},
     "output_type": "execute_result"
    }
   ],
   "source": [
    "np.power(a,b) #functional use"
   ]
  },
  {
   "cell_type": "markdown",
   "metadata": {},
   "source": [
    "## Homework 3.4\n",
    "Find your own data and load it into a dataframe"
   ]
  },
  {
   "cell_type": "markdown",
   "metadata": {},
   "source": [
    "If loading own data means generating data by myself, then it is solved in the section- NumPy Practice which is below homework 3.5. All operations are performed on the data."
   ]
  },
  {
   "cell_type": "code",
   "execution_count": 161,
   "metadata": {},
   "outputs": [
    {
     "data": {
      "text/html": [
       "<div>\n",
       "<style>\n",
       "    .dataframe thead tr:only-child th {\n",
       "        text-align: right;\n",
       "    }\n",
       "\n",
       "    .dataframe thead th {\n",
       "        text-align: left;\n",
       "    }\n",
       "\n",
       "    .dataframe tbody tr th {\n",
       "        vertical-align: top;\n",
       "    }\n",
       "</style>\n",
       "<table border=\"1\" class=\"dataframe\">\n",
       "  <thead>\n",
       "    <tr style=\"text-align: right;\">\n",
       "      <th></th>\n",
       "      <th>sepal_length</th>\n",
       "      <th>sepal_width</th>\n",
       "      <th>petal_length</th>\n",
       "      <th>petal_width</th>\n",
       "      <th>species</th>\n",
       "    </tr>\n",
       "  </thead>\n",
       "  <tbody>\n",
       "    <tr>\n",
       "      <th>0</th>\n",
       "      <td>5.1</td>\n",
       "      <td>3.5</td>\n",
       "      <td>1.4</td>\n",
       "      <td>0.2</td>\n",
       "      <td>setosa</td>\n",
       "    </tr>\n",
       "    <tr>\n",
       "      <th>1</th>\n",
       "      <td>4.9</td>\n",
       "      <td>3.0</td>\n",
       "      <td>1.4</td>\n",
       "      <td>0.2</td>\n",
       "      <td>setosa</td>\n",
       "    </tr>\n",
       "    <tr>\n",
       "      <th>2</th>\n",
       "      <td>4.7</td>\n",
       "      <td>3.2</td>\n",
       "      <td>1.3</td>\n",
       "      <td>0.2</td>\n",
       "      <td>setosa</td>\n",
       "    </tr>\n",
       "    <tr>\n",
       "      <th>3</th>\n",
       "      <td>4.6</td>\n",
       "      <td>3.1</td>\n",
       "      <td>1.5</td>\n",
       "      <td>0.2</td>\n",
       "      <td>setosa</td>\n",
       "    </tr>\n",
       "    <tr>\n",
       "      <th>4</th>\n",
       "      <td>5.0</td>\n",
       "      <td>3.6</td>\n",
       "      <td>1.4</td>\n",
       "      <td>0.2</td>\n",
       "      <td>setosa</td>\n",
       "    </tr>\n",
       "    <tr>\n",
       "      <th>5</th>\n",
       "      <td>5.4</td>\n",
       "      <td>3.9</td>\n",
       "      <td>1.7</td>\n",
       "      <td>0.4</td>\n",
       "      <td>setosa</td>\n",
       "    </tr>\n",
       "    <tr>\n",
       "      <th>6</th>\n",
       "      <td>4.6</td>\n",
       "      <td>3.4</td>\n",
       "      <td>1.4</td>\n",
       "      <td>0.3</td>\n",
       "      <td>setosa</td>\n",
       "    </tr>\n",
       "    <tr>\n",
       "      <th>7</th>\n",
       "      <td>5.0</td>\n",
       "      <td>3.4</td>\n",
       "      <td>1.5</td>\n",
       "      <td>0.2</td>\n",
       "      <td>setosa</td>\n",
       "    </tr>\n",
       "    <tr>\n",
       "      <th>8</th>\n",
       "      <td>4.4</td>\n",
       "      <td>2.9</td>\n",
       "      <td>1.4</td>\n",
       "      <td>0.2</td>\n",
       "      <td>setosa</td>\n",
       "    </tr>\n",
       "    <tr>\n",
       "      <th>9</th>\n",
       "      <td>4.9</td>\n",
       "      <td>3.1</td>\n",
       "      <td>1.5</td>\n",
       "      <td>0.1</td>\n",
       "      <td>setosa</td>\n",
       "    </tr>\n",
       "    <tr>\n",
       "      <th>10</th>\n",
       "      <td>5.4</td>\n",
       "      <td>3.7</td>\n",
       "      <td>1.5</td>\n",
       "      <td>0.2</td>\n",
       "      <td>setosa</td>\n",
       "    </tr>\n",
       "    <tr>\n",
       "      <th>11</th>\n",
       "      <td>4.8</td>\n",
       "      <td>3.4</td>\n",
       "      <td>1.6</td>\n",
       "      <td>0.2</td>\n",
       "      <td>setosa</td>\n",
       "    </tr>\n",
       "    <tr>\n",
       "      <th>12</th>\n",
       "      <td>4.8</td>\n",
       "      <td>3.0</td>\n",
       "      <td>1.4</td>\n",
       "      <td>0.1</td>\n",
       "      <td>setosa</td>\n",
       "    </tr>\n",
       "    <tr>\n",
       "      <th>13</th>\n",
       "      <td>4.3</td>\n",
       "      <td>3.0</td>\n",
       "      <td>1.1</td>\n",
       "      <td>0.1</td>\n",
       "      <td>setosa</td>\n",
       "    </tr>\n",
       "    <tr>\n",
       "      <th>14</th>\n",
       "      <td>5.8</td>\n",
       "      <td>4.0</td>\n",
       "      <td>1.2</td>\n",
       "      <td>0.2</td>\n",
       "      <td>setosa</td>\n",
       "    </tr>\n",
       "    <tr>\n",
       "      <th>15</th>\n",
       "      <td>5.7</td>\n",
       "      <td>4.4</td>\n",
       "      <td>1.5</td>\n",
       "      <td>0.4</td>\n",
       "      <td>setosa</td>\n",
       "    </tr>\n",
       "    <tr>\n",
       "      <th>16</th>\n",
       "      <td>5.4</td>\n",
       "      <td>3.9</td>\n",
       "      <td>1.3</td>\n",
       "      <td>0.4</td>\n",
       "      <td>setosa</td>\n",
       "    </tr>\n",
       "    <tr>\n",
       "      <th>17</th>\n",
       "      <td>5.1</td>\n",
       "      <td>3.5</td>\n",
       "      <td>1.4</td>\n",
       "      <td>0.3</td>\n",
       "      <td>setosa</td>\n",
       "    </tr>\n",
       "    <tr>\n",
       "      <th>18</th>\n",
       "      <td>5.7</td>\n",
       "      <td>3.8</td>\n",
       "      <td>1.7</td>\n",
       "      <td>0.3</td>\n",
       "      <td>setosa</td>\n",
       "    </tr>\n",
       "    <tr>\n",
       "      <th>19</th>\n",
       "      <td>5.1</td>\n",
       "      <td>3.8</td>\n",
       "      <td>1.5</td>\n",
       "      <td>0.3</td>\n",
       "      <td>setosa</td>\n",
       "    </tr>\n",
       "    <tr>\n",
       "      <th>20</th>\n",
       "      <td>5.4</td>\n",
       "      <td>3.4</td>\n",
       "      <td>1.7</td>\n",
       "      <td>0.2</td>\n",
       "      <td>setosa</td>\n",
       "    </tr>\n",
       "    <tr>\n",
       "      <th>21</th>\n",
       "      <td>5.1</td>\n",
       "      <td>3.7</td>\n",
       "      <td>1.5</td>\n",
       "      <td>0.4</td>\n",
       "      <td>setosa</td>\n",
       "    </tr>\n",
       "    <tr>\n",
       "      <th>22</th>\n",
       "      <td>4.6</td>\n",
       "      <td>3.6</td>\n",
       "      <td>1.0</td>\n",
       "      <td>0.2</td>\n",
       "      <td>setosa</td>\n",
       "    </tr>\n",
       "    <tr>\n",
       "      <th>23</th>\n",
       "      <td>5.1</td>\n",
       "      <td>3.3</td>\n",
       "      <td>1.7</td>\n",
       "      <td>0.5</td>\n",
       "      <td>setosa</td>\n",
       "    </tr>\n",
       "    <tr>\n",
       "      <th>24</th>\n",
       "      <td>4.8</td>\n",
       "      <td>3.4</td>\n",
       "      <td>1.9</td>\n",
       "      <td>0.2</td>\n",
       "      <td>setosa</td>\n",
       "    </tr>\n",
       "    <tr>\n",
       "      <th>25</th>\n",
       "      <td>5.0</td>\n",
       "      <td>3.0</td>\n",
       "      <td>1.6</td>\n",
       "      <td>0.2</td>\n",
       "      <td>setosa</td>\n",
       "    </tr>\n",
       "    <tr>\n",
       "      <th>26</th>\n",
       "      <td>5.0</td>\n",
       "      <td>3.4</td>\n",
       "      <td>1.6</td>\n",
       "      <td>0.4</td>\n",
       "      <td>setosa</td>\n",
       "    </tr>\n",
       "    <tr>\n",
       "      <th>27</th>\n",
       "      <td>5.2</td>\n",
       "      <td>3.5</td>\n",
       "      <td>1.5</td>\n",
       "      <td>0.2</td>\n",
       "      <td>setosa</td>\n",
       "    </tr>\n",
       "    <tr>\n",
       "      <th>28</th>\n",
       "      <td>5.2</td>\n",
       "      <td>3.4</td>\n",
       "      <td>1.4</td>\n",
       "      <td>0.2</td>\n",
       "      <td>setosa</td>\n",
       "    </tr>\n",
       "    <tr>\n",
       "      <th>29</th>\n",
       "      <td>4.7</td>\n",
       "      <td>3.2</td>\n",
       "      <td>1.6</td>\n",
       "      <td>0.2</td>\n",
       "      <td>setosa</td>\n",
       "    </tr>\n",
       "    <tr>\n",
       "      <th>...</th>\n",
       "      <td>...</td>\n",
       "      <td>...</td>\n",
       "      <td>...</td>\n",
       "      <td>...</td>\n",
       "      <td>...</td>\n",
       "    </tr>\n",
       "    <tr>\n",
       "      <th>120</th>\n",
       "      <td>6.9</td>\n",
       "      <td>3.2</td>\n",
       "      <td>5.7</td>\n",
       "      <td>2.3</td>\n",
       "      <td>virginica</td>\n",
       "    </tr>\n",
       "    <tr>\n",
       "      <th>121</th>\n",
       "      <td>5.6</td>\n",
       "      <td>2.8</td>\n",
       "      <td>4.9</td>\n",
       "      <td>2.0</td>\n",
       "      <td>virginica</td>\n",
       "    </tr>\n",
       "    <tr>\n",
       "      <th>122</th>\n",
       "      <td>7.7</td>\n",
       "      <td>2.8</td>\n",
       "      <td>6.7</td>\n",
       "      <td>2.0</td>\n",
       "      <td>virginica</td>\n",
       "    </tr>\n",
       "    <tr>\n",
       "      <th>123</th>\n",
       "      <td>6.3</td>\n",
       "      <td>2.7</td>\n",
       "      <td>4.9</td>\n",
       "      <td>1.8</td>\n",
       "      <td>virginica</td>\n",
       "    </tr>\n",
       "    <tr>\n",
       "      <th>124</th>\n",
       "      <td>6.7</td>\n",
       "      <td>3.3</td>\n",
       "      <td>5.7</td>\n",
       "      <td>2.1</td>\n",
       "      <td>virginica</td>\n",
       "    </tr>\n",
       "    <tr>\n",
       "      <th>125</th>\n",
       "      <td>7.2</td>\n",
       "      <td>3.2</td>\n",
       "      <td>6.0</td>\n",
       "      <td>1.8</td>\n",
       "      <td>virginica</td>\n",
       "    </tr>\n",
       "    <tr>\n",
       "      <th>126</th>\n",
       "      <td>6.2</td>\n",
       "      <td>2.8</td>\n",
       "      <td>4.8</td>\n",
       "      <td>1.8</td>\n",
       "      <td>virginica</td>\n",
       "    </tr>\n",
       "    <tr>\n",
       "      <th>127</th>\n",
       "      <td>6.1</td>\n",
       "      <td>3.0</td>\n",
       "      <td>4.9</td>\n",
       "      <td>1.8</td>\n",
       "      <td>virginica</td>\n",
       "    </tr>\n",
       "    <tr>\n",
       "      <th>128</th>\n",
       "      <td>6.4</td>\n",
       "      <td>2.8</td>\n",
       "      <td>5.6</td>\n",
       "      <td>2.1</td>\n",
       "      <td>virginica</td>\n",
       "    </tr>\n",
       "    <tr>\n",
       "      <th>129</th>\n",
       "      <td>7.2</td>\n",
       "      <td>3.0</td>\n",
       "      <td>5.8</td>\n",
       "      <td>1.6</td>\n",
       "      <td>virginica</td>\n",
       "    </tr>\n",
       "    <tr>\n",
       "      <th>130</th>\n",
       "      <td>7.4</td>\n",
       "      <td>2.8</td>\n",
       "      <td>6.1</td>\n",
       "      <td>1.9</td>\n",
       "      <td>virginica</td>\n",
       "    </tr>\n",
       "    <tr>\n",
       "      <th>131</th>\n",
       "      <td>7.9</td>\n",
       "      <td>3.8</td>\n",
       "      <td>6.4</td>\n",
       "      <td>2.0</td>\n",
       "      <td>virginica</td>\n",
       "    </tr>\n",
       "    <tr>\n",
       "      <th>132</th>\n",
       "      <td>6.4</td>\n",
       "      <td>2.8</td>\n",
       "      <td>5.6</td>\n",
       "      <td>2.2</td>\n",
       "      <td>virginica</td>\n",
       "    </tr>\n",
       "    <tr>\n",
       "      <th>133</th>\n",
       "      <td>6.3</td>\n",
       "      <td>2.8</td>\n",
       "      <td>5.1</td>\n",
       "      <td>1.5</td>\n",
       "      <td>virginica</td>\n",
       "    </tr>\n",
       "    <tr>\n",
       "      <th>134</th>\n",
       "      <td>6.1</td>\n",
       "      <td>2.6</td>\n",
       "      <td>5.6</td>\n",
       "      <td>1.4</td>\n",
       "      <td>virginica</td>\n",
       "    </tr>\n",
       "    <tr>\n",
       "      <th>135</th>\n",
       "      <td>7.7</td>\n",
       "      <td>3.0</td>\n",
       "      <td>6.1</td>\n",
       "      <td>2.3</td>\n",
       "      <td>virginica</td>\n",
       "    </tr>\n",
       "    <tr>\n",
       "      <th>136</th>\n",
       "      <td>6.3</td>\n",
       "      <td>3.4</td>\n",
       "      <td>5.6</td>\n",
       "      <td>2.4</td>\n",
       "      <td>virginica</td>\n",
       "    </tr>\n",
       "    <tr>\n",
       "      <th>137</th>\n",
       "      <td>6.4</td>\n",
       "      <td>3.1</td>\n",
       "      <td>5.5</td>\n",
       "      <td>1.8</td>\n",
       "      <td>virginica</td>\n",
       "    </tr>\n",
       "    <tr>\n",
       "      <th>138</th>\n",
       "      <td>6.0</td>\n",
       "      <td>3.0</td>\n",
       "      <td>4.8</td>\n",
       "      <td>1.8</td>\n",
       "      <td>virginica</td>\n",
       "    </tr>\n",
       "    <tr>\n",
       "      <th>139</th>\n",
       "      <td>6.9</td>\n",
       "      <td>3.1</td>\n",
       "      <td>5.4</td>\n",
       "      <td>2.1</td>\n",
       "      <td>virginica</td>\n",
       "    </tr>\n",
       "    <tr>\n",
       "      <th>140</th>\n",
       "      <td>6.7</td>\n",
       "      <td>3.1</td>\n",
       "      <td>5.6</td>\n",
       "      <td>2.4</td>\n",
       "      <td>virginica</td>\n",
       "    </tr>\n",
       "    <tr>\n",
       "      <th>141</th>\n",
       "      <td>6.9</td>\n",
       "      <td>3.1</td>\n",
       "      <td>5.1</td>\n",
       "      <td>2.3</td>\n",
       "      <td>virginica</td>\n",
       "    </tr>\n",
       "    <tr>\n",
       "      <th>142</th>\n",
       "      <td>5.8</td>\n",
       "      <td>2.7</td>\n",
       "      <td>5.1</td>\n",
       "      <td>1.9</td>\n",
       "      <td>virginica</td>\n",
       "    </tr>\n",
       "    <tr>\n",
       "      <th>143</th>\n",
       "      <td>6.8</td>\n",
       "      <td>3.2</td>\n",
       "      <td>5.9</td>\n",
       "      <td>2.3</td>\n",
       "      <td>virginica</td>\n",
       "    </tr>\n",
       "    <tr>\n",
       "      <th>144</th>\n",
       "      <td>6.7</td>\n",
       "      <td>3.3</td>\n",
       "      <td>5.7</td>\n",
       "      <td>2.5</td>\n",
       "      <td>virginica</td>\n",
       "    </tr>\n",
       "    <tr>\n",
       "      <th>145</th>\n",
       "      <td>6.7</td>\n",
       "      <td>3.0</td>\n",
       "      <td>5.2</td>\n",
       "      <td>2.3</td>\n",
       "      <td>virginica</td>\n",
       "    </tr>\n",
       "    <tr>\n",
       "      <th>146</th>\n",
       "      <td>6.3</td>\n",
       "      <td>2.5</td>\n",
       "      <td>5.0</td>\n",
       "      <td>1.9</td>\n",
       "      <td>virginica</td>\n",
       "    </tr>\n",
       "    <tr>\n",
       "      <th>147</th>\n",
       "      <td>6.5</td>\n",
       "      <td>3.0</td>\n",
       "      <td>5.2</td>\n",
       "      <td>2.0</td>\n",
       "      <td>virginica</td>\n",
       "    </tr>\n",
       "    <tr>\n",
       "      <th>148</th>\n",
       "      <td>6.2</td>\n",
       "      <td>3.4</td>\n",
       "      <td>5.4</td>\n",
       "      <td>2.3</td>\n",
       "      <td>virginica</td>\n",
       "    </tr>\n",
       "    <tr>\n",
       "      <th>149</th>\n",
       "      <td>5.9</td>\n",
       "      <td>3.0</td>\n",
       "      <td>5.1</td>\n",
       "      <td>1.8</td>\n",
       "      <td>virginica</td>\n",
       "    </tr>\n",
       "  </tbody>\n",
       "</table>\n",
       "<p>150 rows × 5 columns</p>\n",
       "</div>"
      ],
      "text/plain": [
       "     sepal_length  sepal_width  petal_length  petal_width    species\n",
       "0             5.1          3.5           1.4          0.2     setosa\n",
       "1             4.9          3.0           1.4          0.2     setosa\n",
       "2             4.7          3.2           1.3          0.2     setosa\n",
       "3             4.6          3.1           1.5          0.2     setosa\n",
       "4             5.0          3.6           1.4          0.2     setosa\n",
       "5             5.4          3.9           1.7          0.4     setosa\n",
       "6             4.6          3.4           1.4          0.3     setosa\n",
       "7             5.0          3.4           1.5          0.2     setosa\n",
       "8             4.4          2.9           1.4          0.2     setosa\n",
       "9             4.9          3.1           1.5          0.1     setosa\n",
       "10            5.4          3.7           1.5          0.2     setosa\n",
       "11            4.8          3.4           1.6          0.2     setosa\n",
       "12            4.8          3.0           1.4          0.1     setosa\n",
       "13            4.3          3.0           1.1          0.1     setosa\n",
       "14            5.8          4.0           1.2          0.2     setosa\n",
       "15            5.7          4.4           1.5          0.4     setosa\n",
       "16            5.4          3.9           1.3          0.4     setosa\n",
       "17            5.1          3.5           1.4          0.3     setosa\n",
       "18            5.7          3.8           1.7          0.3     setosa\n",
       "19            5.1          3.8           1.5          0.3     setosa\n",
       "20            5.4          3.4           1.7          0.2     setosa\n",
       "21            5.1          3.7           1.5          0.4     setosa\n",
       "22            4.6          3.6           1.0          0.2     setosa\n",
       "23            5.1          3.3           1.7          0.5     setosa\n",
       "24            4.8          3.4           1.9          0.2     setosa\n",
       "25            5.0          3.0           1.6          0.2     setosa\n",
       "26            5.0          3.4           1.6          0.4     setosa\n",
       "27            5.2          3.5           1.5          0.2     setosa\n",
       "28            5.2          3.4           1.4          0.2     setosa\n",
       "29            4.7          3.2           1.6          0.2     setosa\n",
       "..            ...          ...           ...          ...        ...\n",
       "120           6.9          3.2           5.7          2.3  virginica\n",
       "121           5.6          2.8           4.9          2.0  virginica\n",
       "122           7.7          2.8           6.7          2.0  virginica\n",
       "123           6.3          2.7           4.9          1.8  virginica\n",
       "124           6.7          3.3           5.7          2.1  virginica\n",
       "125           7.2          3.2           6.0          1.8  virginica\n",
       "126           6.2          2.8           4.8          1.8  virginica\n",
       "127           6.1          3.0           4.9          1.8  virginica\n",
       "128           6.4          2.8           5.6          2.1  virginica\n",
       "129           7.2          3.0           5.8          1.6  virginica\n",
       "130           7.4          2.8           6.1          1.9  virginica\n",
       "131           7.9          3.8           6.4          2.0  virginica\n",
       "132           6.4          2.8           5.6          2.2  virginica\n",
       "133           6.3          2.8           5.1          1.5  virginica\n",
       "134           6.1          2.6           5.6          1.4  virginica\n",
       "135           7.7          3.0           6.1          2.3  virginica\n",
       "136           6.3          3.4           5.6          2.4  virginica\n",
       "137           6.4          3.1           5.5          1.8  virginica\n",
       "138           6.0          3.0           4.8          1.8  virginica\n",
       "139           6.9          3.1           5.4          2.1  virginica\n",
       "140           6.7          3.1           5.6          2.4  virginica\n",
       "141           6.9          3.1           5.1          2.3  virginica\n",
       "142           5.8          2.7           5.1          1.9  virginica\n",
       "143           6.8          3.2           5.9          2.3  virginica\n",
       "144           6.7          3.3           5.7          2.5  virginica\n",
       "145           6.7          3.0           5.2          2.3  virginica\n",
       "146           6.3          2.5           5.0          1.9  virginica\n",
       "147           6.5          3.0           5.2          2.0  virginica\n",
       "148           6.2          3.4           5.4          2.3  virginica\n",
       "149           5.9          3.0           5.1          1.8  virginica\n",
       "\n",
       "[150 rows x 5 columns]"
      ]
     },
     "execution_count": 161,
     "metadata": {},
     "output_type": "execute_result"
    }
   ],
   "source": [
    "data_sample1=panda.read_csv('C:\\Users\\Sheshank Reddy\\Downloads\\iris.csv ')\n",
    "data_sample1"
   ]
  },
  {
   "cell_type": "markdown",
   "metadata": {},
   "source": [
    "## Homework 3.5\n",
    "Provide an interesting analysis of the data columns ( frequency or averages )"
   ]
  },
  {
   "cell_type": "code",
   "execution_count": 95,
   "metadata": {},
   "outputs": [
    {
     "data": {
      "text/html": [
       "<div>\n",
       "<style>\n",
       "    .dataframe thead tr:only-child th {\n",
       "        text-align: right;\n",
       "    }\n",
       "\n",
       "    .dataframe thead th {\n",
       "        text-align: left;\n",
       "    }\n",
       "\n",
       "    .dataframe tbody tr th {\n",
       "        vertical-align: top;\n",
       "    }\n",
       "</style>\n",
       "<table border=\"1\" class=\"dataframe\">\n",
       "  <thead>\n",
       "    <tr style=\"text-align: right;\">\n",
       "      <th></th>\n",
       "      <th>sepal_length</th>\n",
       "      <th>sepal_width</th>\n",
       "      <th>petal_length</th>\n",
       "      <th>petal_width</th>\n",
       "      <th>species</th>\n",
       "    </tr>\n",
       "  </thead>\n",
       "  <tbody>\n",
       "    <tr>\n",
       "      <th>0</th>\n",
       "      <td>5.1</td>\n",
       "      <td>3.5</td>\n",
       "      <td>1.4</td>\n",
       "      <td>0.2</td>\n",
       "      <td>setosa</td>\n",
       "    </tr>\n",
       "    <tr>\n",
       "      <th>1</th>\n",
       "      <td>4.9</td>\n",
       "      <td>3.0</td>\n",
       "      <td>1.4</td>\n",
       "      <td>0.2</td>\n",
       "      <td>setosa</td>\n",
       "    </tr>\n",
       "  </tbody>\n",
       "</table>\n",
       "</div>"
      ],
      "text/plain": [
       "   sepal_length  sepal_width  petal_length  petal_width species\n",
       "0           5.1          3.5           1.4          0.2  setosa\n",
       "1           4.9          3.0           1.4          0.2  setosa"
      ]
     },
     "execution_count": 95,
     "metadata": {},
     "output_type": "execute_result"
    }
   ],
   "source": [
    "data_sample1.head(2)"
   ]
  },
  {
   "cell_type": "code",
   "execution_count": 93,
   "metadata": {},
   "outputs": [
    {
     "data": {
      "text/html": [
       "<div>\n",
       "<style>\n",
       "    .dataframe thead tr:only-child th {\n",
       "        text-align: right;\n",
       "    }\n",
       "\n",
       "    .dataframe thead th {\n",
       "        text-align: left;\n",
       "    }\n",
       "\n",
       "    .dataframe tbody tr th {\n",
       "        vertical-align: top;\n",
       "    }\n",
       "</style>\n",
       "<table border=\"1\" class=\"dataframe\">\n",
       "  <thead>\n",
       "    <tr style=\"text-align: right;\">\n",
       "      <th></th>\n",
       "      <th>sepal_length</th>\n",
       "      <th>sepal_width</th>\n",
       "      <th>petal_length</th>\n",
       "      <th>petal_width</th>\n",
       "      <th>species</th>\n",
       "    </tr>\n",
       "  </thead>\n",
       "  <tbody>\n",
       "    <tr>\n",
       "      <th>0</th>\n",
       "      <td>5.1</td>\n",
       "      <td>3.5</td>\n",
       "      <td>1.4</td>\n",
       "      <td>0.2</td>\n",
       "      <td>setosa</td>\n",
       "    </tr>\n",
       "    <tr>\n",
       "      <th>1</th>\n",
       "      <td>4.9</td>\n",
       "      <td>3.0</td>\n",
       "      <td>1.4</td>\n",
       "      <td>0.2</td>\n",
       "      <td>setosa</td>\n",
       "    </tr>\n",
       "    <tr>\n",
       "      <th>2</th>\n",
       "      <td>4.7</td>\n",
       "      <td>3.2</td>\n",
       "      <td>1.3</td>\n",
       "      <td>0.2</td>\n",
       "      <td>setosa</td>\n",
       "    </tr>\n",
       "    <tr>\n",
       "      <th>3</th>\n",
       "      <td>4.6</td>\n",
       "      <td>3.1</td>\n",
       "      <td>1.5</td>\n",
       "      <td>0.2</td>\n",
       "      <td>setosa</td>\n",
       "    </tr>\n",
       "    <tr>\n",
       "      <th>4</th>\n",
       "      <td>5.0</td>\n",
       "      <td>3.6</td>\n",
       "      <td>1.4</td>\n",
       "      <td>0.2</td>\n",
       "      <td>setosa</td>\n",
       "    </tr>\n",
       "    <tr>\n",
       "      <th>5</th>\n",
       "      <td>5.4</td>\n",
       "      <td>3.9</td>\n",
       "      <td>1.7</td>\n",
       "      <td>0.4</td>\n",
       "      <td>setosa</td>\n",
       "    </tr>\n",
       "    <tr>\n",
       "      <th>6</th>\n",
       "      <td>4.6</td>\n",
       "      <td>3.4</td>\n",
       "      <td>1.4</td>\n",
       "      <td>0.3</td>\n",
       "      <td>setosa</td>\n",
       "    </tr>\n",
       "    <tr>\n",
       "      <th>7</th>\n",
       "      <td>5.0</td>\n",
       "      <td>3.4</td>\n",
       "      <td>1.5</td>\n",
       "      <td>0.2</td>\n",
       "      <td>setosa</td>\n",
       "    </tr>\n",
       "    <tr>\n",
       "      <th>8</th>\n",
       "      <td>4.4</td>\n",
       "      <td>2.9</td>\n",
       "      <td>1.4</td>\n",
       "      <td>0.2</td>\n",
       "      <td>setosa</td>\n",
       "    </tr>\n",
       "    <tr>\n",
       "      <th>9</th>\n",
       "      <td>4.9</td>\n",
       "      <td>3.1</td>\n",
       "      <td>1.5</td>\n",
       "      <td>0.1</td>\n",
       "      <td>setosa</td>\n",
       "    </tr>\n",
       "  </tbody>\n",
       "</table>\n",
       "</div>"
      ],
      "text/plain": [
       "   sepal_length  sepal_width  petal_length  petal_width species\n",
       "0           5.1          3.5           1.4          0.2  setosa\n",
       "1           4.9          3.0           1.4          0.2  setosa\n",
       "2           4.7          3.2           1.3          0.2  setosa\n",
       "3           4.6          3.1           1.5          0.2  setosa\n",
       "4           5.0          3.6           1.4          0.2  setosa\n",
       "5           5.4          3.9           1.7          0.4  setosa\n",
       "6           4.6          3.4           1.4          0.3  setosa\n",
       "7           5.0          3.4           1.5          0.2  setosa\n",
       "8           4.4          2.9           1.4          0.2  setosa\n",
       "9           4.9          3.1           1.5          0.1  setosa"
      ]
     },
     "execution_count": 93,
     "metadata": {},
     "output_type": "execute_result"
    }
   ],
   "source": [
    "data_sample1.head(10) # we can access how many rows we want."
   ]
  },
  {
   "cell_type": "code",
   "execution_count": 96,
   "metadata": {},
   "outputs": [
    {
     "name": "stdout",
     "output_type": "stream",
     "text": [
      "<class 'pandas.core.frame.DataFrame'>\n",
      "RangeIndex: 150 entries, 0 to 149\n",
      "Data columns (total 5 columns):\n",
      "sepal_length    150 non-null float64\n",
      "sepal_width     150 non-null float64\n",
      "petal_length    150 non-null float64\n",
      "petal_width     150 non-null float64\n",
      "species         150 non-null object\n",
      "dtypes: float64(4), object(1)\n",
      "memory usage: 5.9+ KB\n"
     ]
    }
   ],
   "source": [
    "data_sample1.info(verbose=None, buf=None, max_cols=None, memory_usage=None, null_counts=None) "
   ]
  },
  {
   "cell_type": "markdown",
   "metadata": {},
   "source": [
    "referred link - https://pandas.pydata.org/pandas-docs/stable/generated/pandas.DataFrame.info.html    \n",
    "\n",
    "Parameters:     \t\n",
    "-verbose : {None, True, False}, optional      \n",
    "Whether to print the full summary. None follows the display.max_info_columns setting. True or False overrides the      display.max_info_columns setting.    \n",
    "-buf : writable buffer, defaults to sys.stdout   \n",
    "-max_cols : int, default None      \n",
    "Determines whether full summary or short summary is printed. None follows the display.max_info_columns setting.    \n",
    "-memory_usage : boolean/string, default None     \n",
    "Specifies whether total memory usage of the DataFrame elements (including index) should be displayed. None follows the display.memory_usage setting. True or False overrides the display.memory_usage setting. A value of ‘deep’ is equivalent of True, with deep introspection. Memory usage is shown in human-readable units (base-2 representation).        \n",
    "-null_counts : boolean, default None     \n",
    "Whether to show the non-null counts      \n",
    "If None, then only show if the frame is smaller than max_info_rows and max_info_columns.    \n",
    "If True, always show counts.     \n",
    "If False, never show counts.     "
   ]
  },
  {
   "cell_type": "code",
   "execution_count": 15,
   "metadata": {},
   "outputs": [
    {
     "data": {
      "text/html": [
       "<div>\n",
       "<style>\n",
       "    .dataframe thead tr:only-child th {\n",
       "        text-align: right;\n",
       "    }\n",
       "\n",
       "    .dataframe thead th {\n",
       "        text-align: left;\n",
       "    }\n",
       "\n",
       "    .dataframe tbody tr th {\n",
       "        vertical-align: top;\n",
       "    }\n",
       "</style>\n",
       "<table border=\"1\" class=\"dataframe\">\n",
       "  <thead>\n",
       "    <tr style=\"text-align: right;\">\n",
       "      <th></th>\n",
       "      <th>sepal_length</th>\n",
       "      <th>sepal_width</th>\n",
       "      <th>petal_length</th>\n",
       "      <th>petal_width</th>\n",
       "    </tr>\n",
       "  </thead>\n",
       "  <tbody>\n",
       "    <tr>\n",
       "      <th>count</th>\n",
       "      <td>150.000000</td>\n",
       "      <td>150.000000</td>\n",
       "      <td>150.000000</td>\n",
       "      <td>150.000000</td>\n",
       "    </tr>\n",
       "    <tr>\n",
       "      <th>mean</th>\n",
       "      <td>5.843333</td>\n",
       "      <td>3.054000</td>\n",
       "      <td>3.758667</td>\n",
       "      <td>1.198667</td>\n",
       "    </tr>\n",
       "    <tr>\n",
       "      <th>std</th>\n",
       "      <td>0.828066</td>\n",
       "      <td>0.433594</td>\n",
       "      <td>1.764420</td>\n",
       "      <td>0.763161</td>\n",
       "    </tr>\n",
       "    <tr>\n",
       "      <th>min</th>\n",
       "      <td>4.300000</td>\n",
       "      <td>2.000000</td>\n",
       "      <td>1.000000</td>\n",
       "      <td>0.100000</td>\n",
       "    </tr>\n",
       "    <tr>\n",
       "      <th>25%</th>\n",
       "      <td>5.100000</td>\n",
       "      <td>2.800000</td>\n",
       "      <td>1.600000</td>\n",
       "      <td>0.300000</td>\n",
       "    </tr>\n",
       "    <tr>\n",
       "      <th>50%</th>\n",
       "      <td>5.800000</td>\n",
       "      <td>3.000000</td>\n",
       "      <td>4.350000</td>\n",
       "      <td>1.300000</td>\n",
       "    </tr>\n",
       "    <tr>\n",
       "      <th>75%</th>\n",
       "      <td>6.400000</td>\n",
       "      <td>3.300000</td>\n",
       "      <td>5.100000</td>\n",
       "      <td>1.800000</td>\n",
       "    </tr>\n",
       "    <tr>\n",
       "      <th>max</th>\n",
       "      <td>7.900000</td>\n",
       "      <td>4.400000</td>\n",
       "      <td>6.900000</td>\n",
       "      <td>2.500000</td>\n",
       "    </tr>\n",
       "  </tbody>\n",
       "</table>\n",
       "</div>"
      ],
      "text/plain": [
       "       sepal_length  sepal_width  petal_length  petal_width\n",
       "count    150.000000   150.000000    150.000000   150.000000\n",
       "mean       5.843333     3.054000      3.758667     1.198667\n",
       "std        0.828066     0.433594      1.764420     0.763161\n",
       "min        4.300000     2.000000      1.000000     0.100000\n",
       "25%        5.100000     2.800000      1.600000     0.300000\n",
       "50%        5.800000     3.000000      4.350000     1.300000\n",
       "75%        6.400000     3.300000      5.100000     1.800000\n",
       "max        7.900000     4.400000      6.900000     2.500000"
      ]
     },
     "execution_count": 15,
     "metadata": {},
     "output_type": "execute_result"
    }
   ],
   "source": [
    "data_sample1.describe()  #displays count, mean, standard deviation etc  numerical values in each dataframe column"
   ]
  },
  {
   "cell_type": "code",
   "execution_count": 102,
   "metadata": {},
   "outputs": [
    {
     "data": {
      "text/html": [
       "<div>\n",
       "<style>\n",
       "    .dataframe thead tr:only-child th {\n",
       "        text-align: right;\n",
       "    }\n",
       "\n",
       "    .dataframe thead th {\n",
       "        text-align: left;\n",
       "    }\n",
       "\n",
       "    .dataframe tbody tr th {\n",
       "        vertical-align: top;\n",
       "    }\n",
       "</style>\n",
       "<table border=\"1\" class=\"dataframe\">\n",
       "  <thead>\n",
       "    <tr style=\"text-align: right;\">\n",
       "      <th></th>\n",
       "      <th>sepal_width</th>\n",
       "      <th>petal_length</th>\n",
       "    </tr>\n",
       "  </thead>\n",
       "  <tbody>\n",
       "    <tr>\n",
       "      <th>0</th>\n",
       "      <td>3.5</td>\n",
       "      <td>1.4</td>\n",
       "    </tr>\n",
       "    <tr>\n",
       "      <th>1</th>\n",
       "      <td>3.0</td>\n",
       "      <td>1.4</td>\n",
       "    </tr>\n",
       "    <tr>\n",
       "      <th>2</th>\n",
       "      <td>3.2</td>\n",
       "      <td>1.3</td>\n",
       "    </tr>\n",
       "    <tr>\n",
       "      <th>3</th>\n",
       "      <td>3.1</td>\n",
       "      <td>1.5</td>\n",
       "    </tr>\n",
       "    <tr>\n",
       "      <th>4</th>\n",
       "      <td>3.6</td>\n",
       "      <td>1.4</td>\n",
       "    </tr>\n",
       "    <tr>\n",
       "      <th>5</th>\n",
       "      <td>3.9</td>\n",
       "      <td>1.7</td>\n",
       "    </tr>\n",
       "    <tr>\n",
       "      <th>6</th>\n",
       "      <td>3.4</td>\n",
       "      <td>1.4</td>\n",
       "    </tr>\n",
       "    <tr>\n",
       "      <th>7</th>\n",
       "      <td>3.4</td>\n",
       "      <td>1.5</td>\n",
       "    </tr>\n",
       "    <tr>\n",
       "      <th>8</th>\n",
       "      <td>2.9</td>\n",
       "      <td>1.4</td>\n",
       "    </tr>\n",
       "    <tr>\n",
       "      <th>9</th>\n",
       "      <td>3.1</td>\n",
       "      <td>1.5</td>\n",
       "    </tr>\n",
       "    <tr>\n",
       "      <th>10</th>\n",
       "      <td>3.7</td>\n",
       "      <td>1.5</td>\n",
       "    </tr>\n",
       "  </tbody>\n",
       "</table>\n",
       "</div>"
      ],
      "text/plain": [
       "    sepal_width  petal_length\n",
       "0           3.5           1.4\n",
       "1           3.0           1.4\n",
       "2           3.2           1.3\n",
       "3           3.1           1.5\n",
       "4           3.6           1.4\n",
       "5           3.9           1.7\n",
       "6           3.4           1.4\n",
       "7           3.4           1.5\n",
       "8           2.9           1.4\n",
       "9           3.1           1.5\n",
       "10          3.7           1.5"
      ]
     },
     "execution_count": 102,
     "metadata": {},
     "output_type": "execute_result"
    }
   ],
   "source": [
    "data_sample1.loc[:10,[\"sepal_width\",\"petal_length\"]]   # displays specified rows for the specified columns."
   ]
  },
  {
   "cell_type": "code",
   "execution_count": 37,
   "metadata": {},
   "outputs": [
    {
     "name": "stdout",
     "output_type": "stream",
     "text": [
      "[[5.1 3.5 1.4 0.2 'setosa']\n",
      " [4.9 3.0 1.4 0.2 'setosa']\n",
      " [4.7 3.2 1.3 0.2 'setosa']\n",
      " [4.6 3.1 1.5 0.2 'setosa']\n",
      " [5.0 3.6 1.4 0.2 'setosa']\n",
      " [5.4 3.9 1.7 0.4 'setosa']\n",
      " [4.6 3.4 1.4 0.3 'setosa']\n",
      " [5.0 3.4 1.5 0.2 'setosa']\n",
      " [4.4 2.9 1.4 0.2 'setosa']\n",
      " [4.9 3.1 1.5 0.1 'setosa']\n",
      " [5.4 3.7 1.5 0.2 'setosa']\n",
      " [4.8 3.4 1.6 0.2 'setosa']\n",
      " [4.8 3.0 1.4 0.1 'setosa']\n",
      " [4.3 3.0 1.1 0.1 'setosa']\n",
      " [5.8 4.0 1.2 0.2 'setosa']\n",
      " [5.7 4.4 1.5 0.4 'setosa']\n",
      " [5.4 3.9 1.3 0.4 'setosa']\n",
      " [5.1 3.5 1.4 0.3 'setosa']\n",
      " [5.7 3.8 1.7 0.3 'setosa']\n",
      " [5.1 3.8 1.5 0.3 'setosa']\n",
      " [5.4 3.4 1.7 0.2 'setosa']\n",
      " [5.1 3.7 1.5 0.4 'setosa']\n",
      " [4.6 3.6 1.0 0.2 'setosa']\n",
      " [5.1 3.3 1.7 0.5 'setosa']\n",
      " [4.8 3.4 1.9 0.2 'setosa']\n",
      " [5.0 3.0 1.6 0.2 'setosa']\n",
      " [5.0 3.4 1.6 0.4 'setosa']\n",
      " [5.2 3.5 1.5 0.2 'setosa']\n",
      " [5.2 3.4 1.4 0.2 'setosa']\n",
      " [4.7 3.2 1.6 0.2 'setosa']\n",
      " [4.8 3.1 1.6 0.2 'setosa']\n",
      " [5.4 3.4 1.5 0.4 'setosa']\n",
      " [5.2 4.1 1.5 0.1 'setosa']\n",
      " [5.5 4.2 1.4 0.2 'setosa']\n",
      " [4.9 3.1 1.5 0.1 'setosa']\n",
      " [5.0 3.2 1.2 0.2 'setosa']\n",
      " [5.5 3.5 1.3 0.2 'setosa']\n",
      " [4.9 3.1 1.5 0.1 'setosa']\n",
      " [4.4 3.0 1.3 0.2 'setosa']\n",
      " [5.1 3.4 1.5 0.2 'setosa']\n",
      " [5.0 3.5 1.3 0.3 'setosa']\n",
      " [4.5 2.3 1.3 0.3 'setosa']\n",
      " [4.4 3.2 1.3 0.2 'setosa']\n",
      " [5.0 3.5 1.6 0.6 'setosa']\n",
      " [5.1 3.8 1.9 0.4 'setosa']\n",
      " [4.8 3.0 1.4 0.3 'setosa']\n",
      " [5.1 3.8 1.6 0.2 'setosa']\n",
      " [4.6 3.2 1.4 0.2 'setosa']\n",
      " [5.3 3.7 1.5 0.2 'setosa']\n",
      " [5.0 3.3 1.4 0.2 'setosa']\n",
      " [7.0 3.2 4.7 1.4 'versicolor']\n",
      " [6.4 3.2 4.5 1.5 'versicolor']\n",
      " [6.9 3.1 4.9 1.5 'versicolor']\n",
      " [5.5 2.3 4.0 1.3 'versicolor']\n",
      " [6.5 2.8 4.6 1.5 'versicolor']\n",
      " [5.7 2.8 4.5 1.3 'versicolor']\n",
      " [6.3 3.3 4.7 1.6 'versicolor']\n",
      " [4.9 2.4 3.3 1.0 'versicolor']\n",
      " [6.6 2.9 4.6 1.3 'versicolor']\n",
      " [5.2 2.7 3.9 1.4 'versicolor']\n",
      " [5.0 2.0 3.5 1.0 'versicolor']\n",
      " [5.9 3.0 4.2 1.5 'versicolor']\n",
      " [6.0 2.2 4.0 1.0 'versicolor']\n",
      " [6.1 2.9 4.7 1.4 'versicolor']\n",
      " [5.6 2.9 3.6 1.3 'versicolor']\n",
      " [6.7 3.1 4.4 1.4 'versicolor']\n",
      " [5.6 3.0 4.5 1.5 'versicolor']\n",
      " [5.8 2.7 4.1 1.0 'versicolor']\n",
      " [6.2 2.2 4.5 1.5 'versicolor']\n",
      " [5.6 2.5 3.9 1.1 'versicolor']\n",
      " [5.9 3.2 4.8 1.8 'versicolor']\n",
      " [6.1 2.8 4.0 1.3 'versicolor']\n",
      " [6.3 2.5 4.9 1.5 'versicolor']\n",
      " [6.1 2.8 4.7 1.2 'versicolor']\n",
      " [6.4 2.9 4.3 1.3 'versicolor']\n",
      " [6.6 3.0 4.4 1.4 'versicolor']\n",
      " [6.8 2.8 4.8 1.4 'versicolor']\n",
      " [6.7 3.0 5.0 1.7 'versicolor']\n",
      " [6.0 2.9 4.5 1.5 'versicolor']\n",
      " [5.7 2.6 3.5 1.0 'versicolor']\n",
      " [5.5 2.4 3.8 1.1 'versicolor']\n",
      " [5.5 2.4 3.7 1.0 'versicolor']\n",
      " [5.8 2.7 3.9 1.2 'versicolor']\n",
      " [6.0 2.7 5.1 1.6 'versicolor']\n",
      " [5.4 3.0 4.5 1.5 'versicolor']\n",
      " [6.0 3.4 4.5 1.6 'versicolor']\n",
      " [6.7 3.1 4.7 1.5 'versicolor']\n",
      " [6.3 2.3 4.4 1.3 'versicolor']\n",
      " [5.6 3.0 4.1 1.3 'versicolor']\n",
      " [5.5 2.5 4.0 1.3 'versicolor']\n",
      " [5.5 2.6 4.4 1.2 'versicolor']\n",
      " [6.1 3.0 4.6 1.4 'versicolor']\n",
      " [5.8 2.6 4.0 1.2 'versicolor']\n",
      " [5.0 2.3 3.3 1.0 'versicolor']\n",
      " [5.6 2.7 4.2 1.3 'versicolor']\n",
      " [5.7 3.0 4.2 1.2 'versicolor']\n",
      " [5.7 2.9 4.2 1.3 'versicolor']\n",
      " [6.2 2.9 4.3 1.3 'versicolor']\n",
      " [5.1 2.5 3.0 1.1 'versicolor']\n",
      " [5.7 2.8 4.1 1.3 'versicolor']\n",
      " [6.3 3.3 6.0 2.5 'virginica']\n",
      " [5.8 2.7 5.1 1.9 'virginica']\n",
      " [7.1 3.0 5.9 2.1 'virginica']\n",
      " [6.3 2.9 5.6 1.8 'virginica']\n",
      " [6.5 3.0 5.8 2.2 'virginica']\n",
      " [7.6 3.0 6.6 2.1 'virginica']\n",
      " [4.9 2.5 4.5 1.7 'virginica']\n",
      " [7.3 2.9 6.3 1.8 'virginica']\n",
      " [6.7 2.5 5.8 1.8 'virginica']\n",
      " [7.2 3.6 6.1 2.5 'virginica']\n",
      " [6.5 3.2 5.1 2.0 'virginica']\n",
      " [6.4 2.7 5.3 1.9 'virginica']\n",
      " [6.8 3.0 5.5 2.1 'virginica']\n",
      " [5.7 2.5 5.0 2.0 'virginica']\n",
      " [5.8 2.8 5.1 2.4 'virginica']\n",
      " [6.4 3.2 5.3 2.3 'virginica']\n",
      " [6.5 3.0 5.5 1.8 'virginica']\n",
      " [7.7 3.8 6.7 2.2 'virginica']\n",
      " [7.7 2.6 6.9 2.3 'virginica']\n",
      " [6.0 2.2 5.0 1.5 'virginica']\n",
      " [6.9 3.2 5.7 2.3 'virginica']\n",
      " [5.6 2.8 4.9 2.0 'virginica']\n",
      " [7.7 2.8 6.7 2.0 'virginica']\n",
      " [6.3 2.7 4.9 1.8 'virginica']\n",
      " [6.7 3.3 5.7 2.1 'virginica']\n",
      " [7.2 3.2 6.0 1.8 'virginica']\n",
      " [6.2 2.8 4.8 1.8 'virginica']\n",
      " [6.1 3.0 4.9 1.8 'virginica']\n",
      " [6.4 2.8 5.6 2.1 'virginica']\n",
      " [7.2 3.0 5.8 1.6 'virginica']\n",
      " [7.4 2.8 6.1 1.9 'virginica']\n",
      " [7.9 3.8 6.4 2.0 'virginica']\n",
      " [6.4 2.8 5.6 2.2 'virginica']\n",
      " [6.3 2.8 5.1 1.5 'virginica']\n",
      " [6.1 2.6 5.6 1.4 'virginica']\n",
      " [7.7 3.0 6.1 2.3 'virginica']\n",
      " [6.3 3.4 5.6 2.4 'virginica']\n",
      " [6.4 3.1 5.5 1.8 'virginica']\n",
      " [6.0 3.0 4.8 1.8 'virginica']\n",
      " [6.9 3.1 5.4 2.1 'virginica']\n",
      " [6.7 3.1 5.6 2.4 'virginica']\n",
      " [6.9 3.1 5.1 2.3 'virginica']\n",
      " [5.8 2.7 5.1 1.9 'virginica']\n",
      " [6.8 3.2 5.9 2.3 'virginica']\n",
      " [6.7 3.3 5.7 2.5 'virginica']\n",
      " [6.7 3.0 5.2 2.3 'virginica']\n",
      " [6.3 2.5 5.0 1.9 'virginica']\n",
      " [6.5 3.0 5.2 2.0 'virginica']\n",
      " [6.2 3.4 5.4 2.3 'virginica']\n",
      " [5.9 3.0 5.1 1.8 'virginica']]\n"
     ]
    }
   ],
   "source": [
    "arr = np.array(data_sample1)\n",
    "print arr"
   ]
  },
  {
   "cell_type": "code",
   "execution_count": 38,
   "metadata": {},
   "outputs": [
    {
     "name": "stdout",
     "output_type": "stream",
     "text": [
      "<type 'numpy.ndarray'>\n"
     ]
    }
   ],
   "source": [
    "print(type(arr))"
   ]
  },
  {
   "cell_type": "code",
   "execution_count": 59,
   "metadata": {},
   "outputs": [
    {
     "name": "stdout",
     "output_type": "stream",
     "text": [
      "2\n",
      "750\n",
      "(150L, 5L)\n",
      "object\n"
     ]
    }
   ],
   "source": [
    "print(arr.ndim)\n",
    "print(arr.size)\n",
    "print(arr.shape)\n",
    "print(arr.dtype)"
   ]
  },
  {
   "cell_type": "markdown",
   "metadata": {},
   "source": [
    "# NumPy Practice    \n",
    "\n",
    "referred link -https://github.com/sheshankvamshi4/PythonMachineLearning"
   ]
  },
  {
   "cell_type": "markdown",
   "metadata": {},
   "source": [
    "# 'arange' and 'linspace'"
   ]
  },
  {
   "cell_type": "code",
   "execution_count": 55,
   "metadata": {},
   "outputs": [
    {
     "name": "stdout",
     "output_type": "stream",
     "text": [
      "[ 5  6  7  8  9 10 11 12 13 14 15]\n",
      "[ 5  7  9 11 13 15]\n",
      "[  5.    7.5  10.   12.5  15. ]\n",
      "[  5   3   1  -1  -3  -5  -7  -9 -11 -13 -15]\n"
     ]
    }
   ],
   "source": [
    "print(np.arange(5,16))\n",
    "print(np.arange(5,16,2))\n",
    "print(np.arange(5,16,2.5))\n",
    "print(np.arange(5,-16,-2))"
   ]
  },
  {
   "cell_type": "code",
   "execution_count": 58,
   "metadata": {},
   "outputs": [
    {
     "name": "stdout",
     "output_type": "stream",
     "text": [
      "[  5.  16.]\n",
      "[  5.           6.22222222   7.44444444   8.66666667   9.88888889\n",
      "  11.11111111  12.33333333  13.55555556  14.77777778  16.        ]\n",
      "[  5.   6.   7.   8.   9.  10.  11.  12.  13.  14.  15.  16.]\n"
     ]
    }
   ],
   "source": [
    "print(np.linspace(5,16,2))\n",
    "print(np.linspace(5,16,10))\n",
    "print(np.linspace(5,16,12))\n"
   ]
  },
  {
   "cell_type": "markdown",
   "metadata": {},
   "source": [
    "# Zeroes, Ones, empty, and Identity matrix"
   ]
  },
  {
   "cell_type": "code",
   "execution_count": 109,
   "metadata": {},
   "outputs": [
    {
     "name": "stdout",
     "output_type": "stream",
     "text": [
      "only one parameter is passed, so it is considered as columns\n",
      "[ 0.  0.  0.  0.  0.]\n",
      "3 by 4 matrix\n",
      "[[ 0.  0.  0.  0.]\n",
      " [ 0.  0.  0.  0.]\n",
      " [ 0.  0.  0.  0.]]\n"
     ]
    }
   ],
   "source": [
    "print(\"only one parameter is passed, so it is considered as columns\")\n",
    "print(np.zeros(5))\n",
    "print(\"3 by 4 matrix\")\n",
    "print(np.zeros((3,4)))"
   ]
  },
  {
   "cell_type": "code",
   "execution_count": 110,
   "metadata": {},
   "outputs": [
    {
     "name": "stdout",
     "output_type": "stream",
     "text": [
      "[ 1.  1.  1.  1.  1.]\n",
      "[[ 1.  1.]\n",
      " [ 1.  1.]\n",
      " [ 1.  1.]\n",
      " [ 1.  1.]\n",
      " [ 1.  1.]]\n",
      "the matrix is multiplied by 5 \n",
      "[[ 5.  5.  5.  5.  5.]\n",
      " [ 5.  5.  5.  5.  5.]\n",
      " [ 5.  5.  5.  5.  5.]]\n"
     ]
    }
   ],
   "source": [
    "print(np.ones(5))\n",
    "print(np.ones((5,2)))\n",
    "print(\"the matrix is multiplied by 5 \")\n",
    "print(5*np.ones((3,5)))"
   ]
  },
  {
   "cell_type": "code",
   "execution_count": 114,
   "metadata": {},
   "outputs": [
    {
     "name": "stdout",
     "output_type": "stream",
     "text": [
      "('Identity matrix of dimension', (5L, 5L))\n",
      "[[ 1.  0.  0.  0.  0.]\n",
      " [ 0.  1.  0.  0.  0.]\n",
      " [ 0.  0.  1.  0.  0.]\n",
      " [ 0.  0.  0.  1.  0.]\n",
      " [ 0.  0.  0.  0.  1.]]\n"
     ]
    }
   ],
   "source": [
    "mat1 = np.eye(5) # we are printing an identity matrix using eye(). one parameter can be passed as dimension of matrix\n",
    "print(\"Identity matrix of dimension\", mat1.shape)\n",
    "print(mat1)"
   ]
  },
  {
   "cell_type": "markdown",
   "metadata": {},
   "source": [
    "# Random number generation"
   ]
  },
  {
   "cell_type": "code",
   "execution_count": 64,
   "metadata": {},
   "outputs": [
    {
     "name": "stdout",
     "output_type": "stream",
     "text": [
      "Random number generation (from Uniform distribution)\n",
      "[[ 0.4674776   0.61859584  0.63147216]\n",
      " [ 0.19219282  0.48423428  0.36504323]]\n"
     ]
    }
   ],
   "source": [
    "print(\"Random number generation (from Uniform distribution)\")\n",
    "print(np.random.rand(2,3)) # using random.rand(x,y), where x,y can be our matrix dimensions."
   ]
  },
  {
   "cell_type": "code",
   "execution_count": 65,
   "metadata": {},
   "outputs": [
    {
     "name": "stdout",
     "output_type": "stream",
     "text": [
      "Numbers from Normal distribution with zero mean and standard deviation 1 i.e. standard normal\n",
      "[[ 0.83749868  0.807979    2.20092469]\n",
      " [-0.74130297  1.22667028  0.69800795]\n",
      " [-0.16171743 -1.73949351 -0.10174331]\n",
      " [-0.69408656  1.60508493  0.46618384]]\n"
     ]
    }
   ],
   "source": [
    "print(\"Numbers from Normal distribution with zero mean and standard deviation 1 i.e. standard normal\")\n",
    "print(np.random.randn(4,3))"
   ]
  },
  {
   "cell_type": "code",
   "execution_count": 115,
   "metadata": {},
   "outputs": [
    {
     "name": "stdout",
     "output_type": "stream",
     "text": [
      "('Random integer vector:', array([14, 72, 18, 75,  8, 31, 70, 50,  4, 19]))\n",
      "\n",
      "Random integer matrix\n",
      "[[63 57 66 73]\n",
      " [ 8 78 18 42]\n",
      " [47 84 64 53]\n",
      " [ 3 91 24 85]]\n",
      "[3 4 5 1 2 5 3 1 5 3 1 6 5 1 5 3 6 1 6 5]\n"
     ]
    }
   ],
   "source": [
    "print(\"Random integer vector:\",np.random.randint(1,100,10)) #randint- it prints integers and we can specify how many we want.\n",
    "print (\"\\nRandom integer matrix\")\n",
    "print(np.random.randint(1,100,(4,4))) #we can also get matrix with the syntax shown.\n",
    "print(np.random.randint(1,7,20)) # instead of 20 we can pass the number we want."
   ]
  },
  {
   "cell_type": "markdown",
   "metadata": {},
   "source": [
    "# Reshaping, min, max, sort"
   ]
  },
  {
   "cell_type": "code",
   "execution_count": 127,
   "metadata": {},
   "outputs": [
    {
     "name": "stdout",
     "output_type": "stream",
     "text": [
      "('Shape of a:', (30L,))\n",
      "('Shape of b:', (2L, 3L, 5L))\n",
      "('Shape of c:', (6L, 5L))\n",
      "a\n",
      "[50 42 20 60 73 89 39 53 10 80 23 64 18 57 25 17 30 89  1 63 90 85 49 64 79\n",
      " 69 81 42 26 82]\n",
      "b\n",
      "[[[50 42 20 60 73]\n",
      "  [89 39 53 10 80]\n",
      "  [23 64 18 57 25]]\n",
      "\n",
      " [[17 30 89  1 63]\n",
      "  [90 85 49 64 79]\n",
      "  [69 81 42 26 82]]]\n",
      "c\n",
      "[[50 42 20 60 73]\n",
      " [89 39 53 10 80]\n",
      " [23 64 18 57 25]\n",
      " [17 30 89  1 63]\n",
      " [90 85 49 64 79]\n",
      " [69 81 42 26 82]]\n",
      "A\n",
      "[50 25 51 77 29 10 21 90 51  7]\n",
      "after sort\n",
      "[ 7 10 21 25 29 50 51 51 77 90]\n"
     ]
    }
   ],
   "source": [
    "from numpy.random import randint as ri\n",
    "a = ri(1,100,30)\n",
    "b = a.reshape(2,3,5) # we can reshape into matrix using reshape().\n",
    "c = a.reshape(6,5)\n",
    "print (\"Shape of a:\", a.shape)\n",
    "print (\"Shape of b:\", b.shape)\n",
    "print (\"Shape of c:\", c.shape)\n",
    "print(\"a\")\n",
    "print(a)\n",
    "print(\"b\")\n",
    "print(b)\n",
    "print(\"c\")\n",
    "print(c)\n",
    "\n",
    "A = ri(1,100,10) # Vector of random interegrs\n",
    "print(\"A\")\n",
    "print(A)\n",
    "print(\"after sort\")\n",
    "print(np.sort(A, kind='mergesort')) # we can sort using sort(variable given, kind = 'sort name').\n",
    "\n"
   ]
  },
  {
   "cell_type": "code",
   "execution_count": 130,
   "metadata": {},
   "outputs": [
    {
     "name": "stdout",
     "output_type": "stream",
     "text": [
      "('Max of a:', 90)\n",
      "('Max of b:', 1)\n",
      "('Max of c location:', 20)\n",
      "('Max of c location:', 18)\n"
     ]
    }
   ],
   "source": [
    "print(\"Max of a:\", a.max()) #max ()- gives max value and min()- gives minimum value\n",
    "print(\"Max of b:\", b.min())\n",
    "print(\"Max of c location:\", c.argmax()) # argmax()- gives location of maximum value and argmin()- gives location of minimum value.\n",
    "print(\"Max of c location:\", c.argmin())"
   ]
  },
  {
   "cell_type": "markdown",
   "metadata": {},
   "source": [
    "# Indexing and slicing"
   ]
  },
  {
   "cell_type": "code",
   "execution_count": 132,
   "metadata": {
    "scrolled": true
   },
   "outputs": [
    {
     "name": "stdout",
     "output_type": "stream",
     "text": [
      "('Array:', array([ 0,  1,  2,  3,  4,  5,  6,  7,  8,  9, 10]))\n",
      "('Element at 7th index is:', 7)\n",
      "('Elements from 3rd to 5th index are:', array([3, 4, 5]))\n",
      "('Elements up to 4th index are:', array([0, 1, 2, 3]))\n",
      "('Elements from last backwards are:', array([10,  9,  8,  7,  6,  5,  4,  3,  2,  1,  0]))\n",
      "('New array:', array([ 0,  2,  4,  6,  8, 10, 12, 14, 16, 18, 20]))\n",
      "('Elements at 2nd, 4th, and 9th index are:', array([ 4,  8, 18]))\n"
     ]
    }
   ],
   "source": [
    "arr = np.arange(0,11)\n",
    "print(\"Array:\",arr)\n",
    "print(\"Element at 7th index is:\", arr[7])  #prints the value at location arr[7].\n",
    "print(\"Elements from 3rd to 5th index are:\", arr[3:6]) #prints the values at locations arr[3],arr[4],arr[5] not arr[6].\n",
    "print(\"Elements up to 4th index are:\", arr[:4]) #prints the values of location until arr[3].\n",
    "print(\"Elements from last backwards are:\", arr[-1::-1]) # prints elements in reverse or backward.\n",
    "\n",
    "arr = np.arange(0,21,2)\n",
    "print(\"New array:\",arr)\n",
    "print(\"Elements at 2nd, 4th, and 9th index are:\", arr[[2,4,9]]) #prints the values at location arr[2],arr[4],arr[9]. # we can learn how to access every value in the data set"
   ]
  },
  {
   "cell_type": "code",
   "execution_count": 141,
   "metadata": {},
   "outputs": [
    {
     "name": "stdout",
     "output_type": "stream",
     "text": [
      "('Matrix of random 2-digit numbers', array([[82, 91, 83, 15, 71],\n",
      "       [62, 68, 73, 15, 99],\n",
      "       [62, 30, 16, 40, 53]]))\n",
      "\n",
      "Double bracket indexing\n",
      "\n",
      "('Element in row index 1 and column index 2:', 73)\n",
      "\n",
      "Single bracket with comma indexing\n",
      "\n",
      "('Element in row index 1 and column index 2:', 73)\n",
      "\n",
      "Row or column extract\n",
      "----------------------\n",
      "('Entire row at index 2:', array([62, 30, 16, 40, 53]))\n",
      "('Entire column at index 3:', array([15, 15, 40]))\n",
      "Subsetting sub-matrices\n",
      "('Matrix with row indices 1 and 2 and column indices 3 and 4', array([[15, 99],\n",
      "       [40, 53]]))\n",
      "('Matrix with row indices 0 and 1 and column indices 1 and 3', array([[91, 15],\n",
      "       [68, 15]]))\n"
     ]
    }
   ],
   "source": [
    "mat = np.array(ri(10,100,15)).reshape(3,5)\n",
    "print(\"Matrix of random 2-digit numbers\",mat)\n",
    "\n",
    "print(\"\\nDouble bracket indexing\\n\")\n",
    "print(\"Element in row index 1 and column index 2:\", mat[1][2])\n",
    "\n",
    "print(\"\\nSingle bracket with comma indexing\\n\")\n",
    "print(\"Element in row index 1 and column index 2:\", mat[1,2])\n",
    "print(\"\\nRow or column extract\\n----------------------\")\n",
    "\n",
    "print(\"Entire row at index 2:\", mat[2])\n",
    "print(\"Entire column at index 3:\", mat[:,3])\n",
    "\n",
    "print(\"Subsetting sub-matrices\")\n",
    "print(\"Matrix with row indices 1 and 2 and column indices 3 and 4\", mat[1:3,3:5])\n",
    "print(\"Matrix with row indices 0 and 1 and column indices 1 and 3\", mat[0:2,[1,3]])"
   ]
  },
  {
   "cell_type": "markdown",
   "metadata": {},
   "source": [
    "# Array operations (array-array, array-scalar, universal functions)"
   ]
  },
  {
   "cell_type": "code",
   "execution_count": 143,
   "metadata": {},
   "outputs": [
    {
     "name": "stdout",
     "output_type": "stream",
     "text": [
      "('1st Matrix of random single-digit numbers', array([[8, 3, 7],\n",
      "       [6, 9, 9],\n",
      "       [2, 4, 3]]))\n",
      "('2nd Matrix of random single-digit numbers', array([[7, 6, 1],\n",
      "       [9, 6, 7],\n",
      "       [8, 1, 2]]))\n",
      "('Addition', array([[15,  9,  8],\n",
      "       [15, 15, 16],\n",
      "       [10,  5,  5]]))\n",
      "('Multiplication', array([[56, 18,  7],\n",
      "       [54, 54, 63],\n",
      "       [16,  4,  6]]))\n",
      "('Division', array([[1, 0, 7],\n",
      "       [0, 1, 1],\n",
      "       [0, 4, 1]]))\n",
      "('Lineaer combination: 3*A - 2*B', array([[ 10,  -3,  19],\n",
      "       [  0,  15,  13],\n",
      "       [-10,  10,   5]]))\n",
      "('Addition of a scalar (100)', array([[108, 103, 107],\n",
      "       [106, 109, 109],\n",
      "       [102, 104, 103]]))\n",
      "('Exponentiation, matrix cubed here', array([[512,  27, 343],\n",
      "       [216, 729, 729],\n",
      "       [  8,  64,  27]]))\n",
      "('Exponentiation, sq-root using pow function', array([[ 2.82842712,  1.73205081,  2.64575131],\n",
      "       [ 2.44948974,  3.        ,  3.        ],\n",
      "       [ 1.41421356,  2.        ,  1.73205081]]))\n"
     ]
    }
   ],
   "source": [
    "mat1 = np.array(ri(1,10,9)).reshape(3,3)\n",
    "mat2 = np.array(ri(1,10,9)).reshape(3,3)\n",
    "print(\"1st Matrix of random single-digit numbers\",mat1)\n",
    "print(\"2nd Matrix of random single-digit numbers\",mat2)\n",
    "\n",
    "print(\"Addition\", mat1+mat2)\n",
    "print(\"Multiplication\", mat1*mat2)\n",
    "print(\"Division\", mat1/mat2)\n",
    "print(\"Lineaer combination: 3*A - 2*B\", 3*mat1-2*mat2)\n",
    "\n",
    "print(\"Addition of a scalar (100)\", 100+mat1)\n",
    "\n",
    "print(\"Exponentiation, matrix cubed here\", mat1**3)\n",
    "print(\"Exponentiation, sq-root using pow function\",pow(mat1,0.5))"
   ]
  },
  {
   "cell_type": "markdown",
   "metadata": {},
   "source": [
    "# NumPy mathematical functions on array"
   ]
  },
  {
   "cell_type": "code",
   "execution_count": 145,
   "metadata": {},
   "outputs": [
    {
     "name": "stdout",
     "output_type": "stream",
     "text": [
      "('1st Matrix of random single-digit numbers', array([[1, 5, 3],\n",
      "       [1, 4, 3],\n",
      "       [7, 8, 4]]))\n",
      "('2nd Matrix of random single-digit numbers', array([[8, 4, 6],\n",
      "       [4, 2, 6],\n",
      "       [2, 9, 2]]))\n",
      "('Sq-root of 1st matrix using np', array([[ 1.        ,  2.23606798,  1.73205081],\n",
      "       [ 1.        ,  2.        ,  1.73205081],\n",
      "       [ 2.64575131,  2.82842712,  2.        ]]))\n",
      "('Exponential power of 1st matrix using np', array([[  2.71828183e+00,   1.48413159e+02,   2.00855369e+01],\n",
      "       [  2.71828183e+00,   5.45981500e+01,   2.00855369e+01],\n",
      "       [  1.09663316e+03,   2.98095799e+03,   5.45981500e+01]]))\n",
      "('10-base logarithm on 1st matrix using np', array([[ 0.        ,  0.69897   ,  0.47712125],\n",
      "       [ 0.        ,  0.60205999,  0.47712125],\n",
      "       [ 0.84509804,  0.90308999,  0.60205999]]))\n",
      "('Modulo reminder using np', array([[1, 1, 3],\n",
      "       [1, 0, 3],\n",
      "       [1, 8, 0]]))\n"
     ]
    }
   ],
   "source": [
    "mat1 = np.array(ri(1,10,9)).reshape(3,3)\n",
    "mat2 = np.array(ri(1,10,9)).reshape(3,3)\n",
    "print(\"1st Matrix of random single-digit numbers\",mat1)\n",
    "print(\"2nd Matrix of random single-digit numbers\",mat2)\n",
    "\n",
    "print(\"Sq-root of 1st matrix using np\", np.sqrt(mat1))\n",
    "print(\"Exponential power of 1st matrix using np\", np.exp(mat1))\n",
    "print(\"10-base logarithm on 1st matrix using np\", np.log10(mat1))\n",
    "print(\"Modulo reminder using np\", np.fmod(mat1,mat2))"
   ]
  },
  {
   "cell_type": "markdown",
   "metadata": {},
   "source": [
    "# NumPy basic statistics on array"
   ]
  },
  {
   "cell_type": "code",
   "execution_count": 151,
   "metadata": {},
   "outputs": [
    {
     "name": "stdout",
     "output_type": "stream",
     "text": [
      "('1st Matrix of random single-digit numbers', array([[4, 8, 9],\n",
      "       [1, 1, 7],\n",
      "       [9, 9, 3]]))\n",
      "('2nd Matrix of random single-digit numbers', array([[3, 9, 5],\n",
      "       [5, 8, 2],\n",
      "       [8, 8, 8]]))\n",
      "('Sum of all numbers in 1st matrix', 51)\n",
      "('Sum of all numbers in columns of 1st matrix', array([14, 18, 19]))\n",
      "('Sum of all numbers in rows of 1st matrix', array([21,  9, 21]))\n",
      "('Product of all numbers in rows of 1st matrix', array([288,   7, 243]))\n",
      "('Product of all numbers in columns of 2nd matrix', array([120, 576,  80]))\n",
      "('Mean of all numbers in 1st matrix', 5.666666666666667)\n",
      "('Standard deviation of all numbers in 1st matrix', 3.2317865716108862)\n",
      "('Modified matrix of random numbers from 1 to 99', array([[89, 21, 54],\n",
      "       [14, 42, 74],\n",
      "       [82, 47, 22]]))\n",
      "('Standard deviation of all numbers in the modified matrix, a larger number', 26.094320842798602)\n",
      "('Variance of all numbers in the modified matrix, a larger number', 680.91358024691363)\n",
      "('Median of all numbers in the modified matrix', 47.0)\n",
      "('Modified matrix of 50 random numbers from 1 to 99', array([[ 2, 65, 25, 65, 57],\n",
      "       [23, 82, 16, 88, 56],\n",
      "       [60, 57, 15, 94, 54],\n",
      "       [44, 98, 61, 36, 68],\n",
      "       [38,  8, 67, 12, 82],\n",
      "       [31, 25, 46, 84, 78],\n",
      "       [ 9, 60, 38, 20, 30],\n",
      "       [44, 51, 48, 45, 12],\n",
      "       [89, 77, 45, 33, 24],\n",
      "       [40, 19,  4,  5, 81]]))\n",
      "('Standard deviation along the columns in the modified matrix', array([ 23.6050842 ,  27.5782523 ,  19.74461952,  30.99612879,  23.53210573]))\n",
      "('Modified matrix of random numbers from 1 to 49', array([[22, 26, 60, 78, 13],\n",
      "       [64, 34, 13, 13, 40],\n",
      "       [83,  2, 95, 22, 68],\n",
      "       [53, 64, 49, 93, 90]]))\n",
      "('Flattened and sorted matrix (as vector)', array([[ 2, 13, 13, 13, 22, 22, 26, 34, 40, 49, 53, 60, 64, 64, 68, 78, 83,\n",
      "        90, 93, 95]]))\n",
      "('50th percentile of all numbers in the modified matrix', 51.0)\n",
      "('90th percentile of all numbers in the modified matrix', 90.300000000000011)\n"
     ]
    }
   ],
   "source": [
    "mat1 = np.array(ri(1,10,9)).reshape(3,3)\n",
    "mat2 = np.array(ri(1,10,9)).reshape(3,3)\n",
    "print(\"1st Matrix of random single-digit numbers\",mat1)\n",
    "print(\"2nd Matrix of random single-digit numbers\",mat2)\n",
    "\n",
    "print(\"Sum of all numbers in 1st matrix\",np.sum(mat1))\n",
    "print(\"Sum of all numbers in columns of 1st matrix\",np.sum(mat1,axis=0))\n",
    "print(\"Sum of all numbers in rows of 1st matrix\",np.sum(mat1,axis=1))\n",
    "print(\"Product of all numbers in rows of 1st matrix\",np.prod(mat1,axis=1))\n",
    "print(\"Product of all numbers in columns of 2nd matrix\",np.prod(mat2,axis=0))\n",
    "print(\"Mean of all numbers in 1st matrix\",np.mean(mat1))\n",
    "print(\"Standard deviation of all numbers in 1st matrix\",np.std(mat1))\n",
    "\n",
    "mat1 = np.array(ri(1,100,9)).reshape(3,3)\n",
    "print(\"Modified matrix of random numbers from 1 to 99\",mat1)\n",
    "print(\"Standard deviation of all numbers in the modified matrix, a larger number\",np.std(mat1))\n",
    "print(\"Variance of all numbers in the modified matrix, a larger number\",np.var(mat1))\n",
    "print(\"Median of all numbers in the modified matrix\",np.median(mat1))\n",
    "\n",
    "mat2 = np.array(ri(1,100,50)).reshape(10,5)\n",
    "print(\"Modified matrix of 50 random numbers from 1 to 99\",mat2)\n",
    "print(\"Standard deviation along the columns in the modified matrix\",np.std(mat2,axis=0))\n",
    "\n",
    "mat1 = np.array(ri(1,100,20)).reshape(4,5)\n",
    "print(\"Modified matrix of random numbers from 1 to 49\",mat1)\n",
    "print(\"Flattened and sorted matrix (as vector)\",np.sort(mat1.reshape(1,20)))\n",
    "print(\"50th percentile of all numbers in the modified matrix\",np.percentile(mat1,50))\n",
    "print(\"90th percentile of all numbers in the modified matrix\",np.percentile(mat1,90))"
   ]
  },
  {
   "cell_type": "markdown",
   "metadata": {},
   "source": [
    "# Pandas Practice"
   ]
  },
  {
   "cell_type": "code",
   "execution_count": 77,
   "metadata": {
    "scrolled": true
   },
   "outputs": [
    {
     "name": "stdout",
     "output_type": "stream",
     "text": [
      "('Labels:', ['a', 'b', 'c'])\n",
      "('My data:', [10, 20, 30])\n",
      "('Dictionary:', {'a': 10, 'c': 30, 'b': 20})\n"
     ]
    }
   ],
   "source": [
    "\n",
    "labels = ['a','b','c']\n",
    "my_data = [10,20,30]\n",
    "arr = np.array(my_data)\n",
    "d = {'a':10,'b':20,'c':30}\n",
    "\n",
    "print (\"Labels:\", labels)\n",
    "print(\"My data:\", my_data)\n",
    "print(\"Dictionary:\", d)"
   ]
  },
  {
   "cell_type": "code",
   "execution_count": 78,
   "metadata": {},
   "outputs": [
    {
     "data": {
      "text/plain": [
       "0    10\n",
       "1    20\n",
       "2    30\n",
       "dtype: int64"
      ]
     },
     "execution_count": 78,
     "metadata": {},
     "output_type": "execute_result"
    }
   ],
   "source": [
    "panda.Series(data=my_data)"
   ]
  },
  {
   "cell_type": "code",
   "execution_count": 79,
   "metadata": {},
   "outputs": [
    {
     "data": {
      "text/plain": [
       "a    10\n",
       "b    20\n",
       "c    30\n",
       "dtype: int64"
      ]
     },
     "execution_count": 79,
     "metadata": {},
     "output_type": "execute_result"
    }
   ],
   "source": [
    "panda.Series(data=my_data, index=labels)"
   ]
  },
  {
   "cell_type": "code",
   "execution_count": 82,
   "metadata": {},
   "outputs": [
    {
     "data": {
      "text/plain": [
       "a    10\n",
       "b    20\n",
       "c    30\n",
       "dtype: int32"
      ]
     },
     "execution_count": 82,
     "metadata": {},
     "output_type": "execute_result"
    }
   ],
   "source": [
    "panda.Series(arr, labels)"
   ]
  },
  {
   "cell_type": "code",
   "execution_count": 83,
   "metadata": {},
   "outputs": [
    {
     "data": {
      "text/plain": [
       "a    10\n",
       "b    20\n",
       "c    30\n",
       "dtype: int64"
      ]
     },
     "execution_count": 83,
     "metadata": {},
     "output_type": "execute_result"
    }
   ],
   "source": [
    "panda.Series(d)"
   ]
  },
  {
   "cell_type": "code",
   "execution_count": 153,
   "metadata": {},
   "outputs": [
    {
     "name": "stdout",
     "output_type": "stream",
     "text": [
      "Holding numerical data\n",
      "0      0\n",
      "1      2\n",
      "2      4\n",
      "3      6\n",
      "4      8\n",
      "5     10\n",
      "6     12\n",
      "7     14\n",
      "8     16\n",
      "9     18\n",
      "10    20\n",
      "dtype: int32\n",
      "Holding text labels\n",
      "0    a\n",
      "1    b\n",
      "2    c\n",
      "dtype: object\n",
      "Holding functions\n",
      "0    <built-in function sum>\n",
      "1    <built-in function len>\n",
      "dtype: object\n",
      "Holding objects from a dictionary\n",
      "0    <built-in method keys of dict object at 0x0000...\n",
      "1    <built-in method items of dict object at 0x000...\n",
      "2    <built-in method values of dict object at 0x00...\n",
      "dtype: object\n"
     ]
    }
   ],
   "source": [
    "print (\"Holding numerical data\")\n",
    "print(panda.Series(arr))\n",
    "print (\"Holding text labels\")\n",
    "print(panda.Series(labels))\n",
    "print (\"Holding functions\")\n",
    "print(panda.Series(data=[sum,len]))\n",
    "print (\"Holding objects from a dictionary\")\n",
    "print(panda.Series(data=[d.keys, d.items, d.values]))"
   ]
  },
  {
   "cell_type": "markdown",
   "metadata": {},
   "source": [
    "# Indexing and slicing\n"
   ]
  },
  {
   "cell_type": "code",
   "execution_count": 159,
   "metadata": {},
   "outputs": [
    {
     "name": "stdout",
     "output_type": "stream",
     "text": [
      "Indexing by name of the item/object (string identifier)\n",
      "('Value for CA in ser1:', 1)\n",
      "('Value for AZ in ser1:', 4)\n",
      "('Value for NV in ser2:', 5)\n",
      "Indexing by number (positional value in the series)\n",
      "('Value for CA in ser1:', 1)\n",
      "('Value for AZ in ser1:', 4)\n",
      "('Value for NV in ser2:', 5)\n",
      "Indexing by a range\n",
      "('Value for OR, CO, and AZ in ser1:', OR    2\n",
      "CO    3\n",
      "AZ    4\n",
      "dtype: int64)\n"
     ]
    }
   ],
   "source": [
    "ser1 = panda.Series([1,2,3,4],['CA', 'OR', 'CO', 'AZ'])\n",
    "ser2 = panda.Series([1,2,5,4],['CA', 'OR', 'NV', 'AZ'])\n",
    "\n",
    "print (\"Indexing by name of the item/object (string identifier)\")\n",
    "print(\"Value for CA in ser1:\", ser1['CA'])\n",
    "print(\"Value for AZ in ser1:\", ser1['AZ'])\n",
    "print(\"Value for NV in ser2:\", ser2['NV'])\n",
    "\n",
    "print (\"Indexing by number (positional value in the series)\" )\n",
    "print(\"Value for CA in ser1:\", ser1[0])\n",
    "print(\"Value for AZ in ser1:\", ser1[3])\n",
    "print(\"Value for NV in ser2:\", ser2[2])\n",
    "\n",
    "print (\"Indexing by a range\")\n",
    "print (\"Value for OR, CO, and AZ in ser1:\",ser1[1:4])"
   ]
  },
  {
   "cell_type": "markdown",
   "metadata": {},
   "source": [
    "# Adding/Merging two series with common indices\n"
   ]
  },
  {
   "cell_type": "code",
   "execution_count": 160,
   "metadata": {},
   "outputs": [
    {
     "name": "stdout",
     "output_type": "stream",
     "text": [
      "After adding the two series, the result looks like this.\n",
      "AZ    8.0\n",
      "CA    2.0\n",
      "CO    NaN\n",
      "NV    NaN\n",
      "OR    4.0\n",
      "dtype: float64\n",
      "Python tries to add values where it finds common index name, and puts NaN where indices are missing\n",
      "The idea works even for multiplication.\n",
      "AZ    16.0\n",
      "CA     1.0\n",
      "CO     NaN\n",
      "NV     NaN\n",
      "OR     4.0\n",
      "dtype: float64\n",
      "Or even for combination of mathematical operations!\n",
      "AZ    55.200210\n",
      "CA     2.718282\n",
      "CO          NaN\n",
      "NV          NaN\n",
      "OR     7.690086\n",
      "dtype: float64\n"
     ]
    }
   ],
   "source": [
    "ser1 = panda.Series([1,2,3,4],['CA', 'OR', 'CO', 'AZ'])\n",
    "ser2 = panda.Series([1,2,5,4],['CA', 'OR', 'NV', 'AZ'])\n",
    "ser3 = ser1+ser2\n",
    "\n",
    "print (\"After adding the two series, the result looks like this.\")\n",
    "print(ser3)\n",
    "print(\"Python tries to add values where it finds common index name, and puts NaN where indices are missing\")\n",
    "\n",
    "print (\"The idea works even for multiplication.\")\n",
    "print (ser1*ser2)\n",
    "\n",
    "print (\"Or even for combination of mathematical operations!\")\n",
    "print (np.exp(ser1)+np.log10(ser2))"
   ]
  }
 ],
 "metadata": {
  "kernelspec": {
   "display_name": "Python 2",
   "language": "python",
   "name": "python2"
  },
  "language_info": {
   "codemirror_mode": {
    "name": "ipython",
    "version": 2
   },
   "file_extension": ".py",
   "mimetype": "text/x-python",
   "name": "python",
   "nbconvert_exporter": "python",
   "pygments_lexer": "ipython2",
   "version": "2.7.13"
  }
 },
 "nbformat": 4,
 "nbformat_minor": 1
}
