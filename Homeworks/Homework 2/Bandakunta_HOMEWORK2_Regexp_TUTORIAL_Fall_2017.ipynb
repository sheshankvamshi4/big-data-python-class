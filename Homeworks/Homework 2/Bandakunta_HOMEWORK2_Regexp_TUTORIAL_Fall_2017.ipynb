{
 "cells": [
  {
   "cell_type": "markdown",
   "metadata": {},
   "source": [
    "# Regular Expressions\n",
    "Referred link- https://www.tutorialspoint.com/python/python_reg_expressions.htm"
   ]
  },
  {
   "cell_type": "markdown",
   "metadata": {},
   "source": [
    "# Match function"
   ]
  },
  {
   "cell_type": "markdown",
   "metadata": {},
   "source": [
    "Syntax-re.match(pattern, string, flags=0)\n",
    "\n",
    "In the above syntax       \n",
    "pattern-is the regular expression to be matched.      \n",
    "string- which would be searched to match the pattern at the beginning of string.     \n",
    "flags- these are modifiers.      \n",
    " -re.match function returns a match object on success, None on failure.        \n",
    " -we use group(num) or groups() function of match object to get matched expression.         "
   ]
  },
  {
   "cell_type": "code",
   "execution_count": 4,
   "metadata": {},
   "outputs": [
    {
     "name": "stdout",
     "output_type": "stream",
     "text": [
      "matchObj.group(1) :  Cats\n",
      "matchObj.group(2) :  smarter\n",
      "matchObj.group(0) :  Cats are smarter than dogs\n"
     ]
    }
   ],
   "source": [
    "import re\n",
    "\n",
    "line = \"Cats are smarter than dogs\"\n",
    "\n",
    "matchObj = re.match( r'(.*) are (.*?) .*', line, re.M|re.I)\n",
    "\n",
    "if matchObj:\n",
    "   print \"matchObj.group(1) : \", matchObj.group(1)\n",
    "   print \"matchObj.group(2) : \", matchObj.group(2)\n",
    "   print \"matchObj.group(0) : \", matchObj.group(0)\n",
    "else:\n",
    "   print \"No match!!\""
   ]
  },
  {
   "cell_type": "markdown",
   "metadata": {},
   "source": [
    "What I Did and Learnt?      \n",
    "\n",
    "In the above code string name is line.    \n",
    "r'(.*) are (.*?).*' is the regular expression        \n",
    "re.M|re.I are modifiers       \n",
    "re.I- Performs case-insensitive matching.        \n",
    "re.M- Makes $ match the end of a line (not just the end of the string) and makes ^ match the start of any line (not just the start of the string).       \n",
    "\n",
    "when we use group()- This method returns all matching subgroups in a tuple (empty if there weren't any)      \n",
    "when we use group(num) -\tThis method returns entire match (or specific subgroup num)     \n",
    "\n"
   ]
  },
  {
   "cell_type": "markdown",
   "metadata": {},
   "source": [
    "# Matching Versus Searching"
   ]
  },
  {
   "cell_type": "code",
   "execution_count": 5,
   "metadata": {},
   "outputs": [
    {
     "name": "stdout",
     "output_type": "stream",
     "text": [
      "No match!!\n",
      "search --> searchObj.group() :  dogs\n"
     ]
    }
   ],
   "source": [
    "import re\n",
    "\n",
    "line = \"Cats are smarter than dogs\";\n",
    "\n",
    "matchObj = re.match( r'dogs', line, re.M|re.I)\n",
    "if matchObj:\n",
    "   print \"match --> matchObj.group() : \", matchObj.group()\n",
    "else:\n",
    "   print \"No match!!\"\n",
    "\n",
    "searchObj = re.search( r'dogs', line, re.M|re.I)\n",
    "if searchObj:\n",
    "   print \"search --> searchObj.group() : \", searchObj.group()\n",
    "else:\n",
    "   print \"Nothing found!!\""
   ]
  },
  {
   "cell_type": "markdown",
   "metadata": {},
   "source": [
    "What I learnt?      \n",
    "\n",
    "The only thing I learnt from this is match checks for a match only at the beginning of the string, while search checks for a match anywhere in the string (this is what Perl does by default).    "
   ]
  },
  {
   "cell_type": "markdown",
   "metadata": {},
   "source": [
    "# Search and Replace"
   ]
  },
  {
   "cell_type": "markdown",
   "metadata": {},
   "source": [
    "The other re methods that use regular expressions is sub. This method replaces all occurrences of the RE pattern in string with repl(from syntax), substituting all occurrences unless max provided. This method returns modified string.    \n",
    "Syntax-re.sub(pattern, repl, string, max=0)"
   ]
  },
  {
   "cell_type": "code",
   "execution_count": 6,
   "metadata": {},
   "outputs": [
    {
     "name": "stdout",
     "output_type": "stream",
     "text": [
      "Phone Num :  2004-959-559 \n",
      "Phone Num :  2004959559\n"
     ]
    }
   ],
   "source": [
    "import re\n",
    "\n",
    "phone = \"2004-959-559 # This is Phone Number\"\n",
    "\n",
    "\n",
    "num = re.sub(r'#.*$', \"\", phone)\n",
    "print \"Phone Num : \", num\n",
    "\n",
    "\n",
    "num = re.sub(r'\\D', \"\", phone)    \n",
    "print \"Phone Num : \", num"
   ]
  },
  {
   "cell_type": "markdown",
   "metadata": {},
   "source": [
    "What I learnt?    \n",
    "\n",
    "num = re.sub(r'#.*$', \"\", phone)- It deletes Python-style comments.     \n",
    "num = re.sub(r'\\D', \"\", phone)- It removes anything other than digits.   \n",
    "And sub method replaces all occurrences of the RE pattern in string.\n",
    "\n"
   ]
  }
 ],
 "metadata": {
  "kernelspec": {
   "display_name": "Python 2",
   "language": "python",
   "name": "python2"
  },
  "language_info": {
   "codemirror_mode": {
    "name": "ipython",
    "version": 2
   },
   "file_extension": ".py",
   "mimetype": "text/x-python",
   "name": "python",
   "nbconvert_exporter": "python",
   "pygments_lexer": "ipython2",
   "version": "2.7.13"
  }
 },
 "nbformat": 4,
 "nbformat_minor": 2
}
