{
 "cells": [
  {
   "cell_type": "markdown",
   "metadata": {},
   "source": [
    "# Use of Dictionaries"
   ]
  },
  {
   "cell_type": "markdown",
   "metadata": {},
   "source": [
    "A dictionary maps a set of objects (keys) to another set of objects (values). Dictionaries are mutable, which means they can be changed. The values that the keys point to can be any Python value.(wikipedia answer)"
   ]
  },
  {
   "cell_type": "markdown",
   "metadata": {},
   "source": [
    "# Creation of the dict"
   ]
  },
  {
   "cell_type": "code",
   "execution_count": 2,
   "metadata": {},
   "outputs": [
    {
     "name": "stdout",
     "output_type": "stream",
     "text": [
      "['monitor', 'keyboard', 'cpu'] ['20', '15', '12']\n",
      "{'cpu': '12', 'monitor': '20', 'keyboard': '15'}\n"
     ]
    }
   ],
   "source": [
    "items= [\"monitor\",\"keyboard\",\"cpu\"]\n",
    "length=[\"20\",\"15\",\"12\"]\n",
    "print items, length\n",
    "\n",
    "first_dict = {}\n",
    "for i in range(len(items)):\n",
    "    first_dict[items[i]] = length[i]\n",
    "    \n",
    "print first_dict"
   ]
  },
  {
   "cell_type": "markdown",
   "metadata": {},
   "source": [
    "What I Did and Learnt?\n",
    "\n",
    "I created a dict, firstly i created two lists and then I created a dict, we can also create a dict directly as I created second_dict, while showing merging."
   ]
  },
  {
   "cell_type": "markdown",
   "metadata": {},
   "source": [
    "# Accessing a dict"
   ]
  },
  {
   "cell_type": "code",
   "execution_count": 3,
   "metadata": {},
   "outputs": [
    {
     "name": "stdout",
     "output_type": "stream",
     "text": [
      "20\n"
     ]
    }
   ],
   "source": [
    "print first_dict['monitor']"
   ]
  },
  {
   "cell_type": "markdown",
   "metadata": {},
   "source": [
    "What I Did and Learnt?\n",
    "\n",
    "I showed how we can access a dict by printing the values of a key."
   ]
  },
  {
   "cell_type": "markdown",
   "metadata": {},
   "source": [
    "# Modify a dict"
   ]
  },
  {
   "cell_type": "code",
   "execution_count": 4,
   "metadata": {},
   "outputs": [
    {
     "name": "stdout",
     "output_type": "stream",
     "text": [
      "{'usb': '2', 'cpu': '12', 'monitor': '20', 'keyboard': '15'}\n"
     ]
    }
   ],
   "source": [
    "first_dict['usb']= '2'\n",
    "\n",
    "print first_dict"
   ]
  },
  {
   "cell_type": "markdown",
   "metadata": {},
   "source": [
    "What I Did and Learnt?\n",
    "\n",
    "I modified the first_dict by inserting a new key-value pair(usb=2)."
   ]
  },
  {
   "cell_type": "markdown",
   "metadata": {},
   "source": [
    "# Delete a dict"
   ]
  },
  {
   "cell_type": "code",
   "execution_count": 5,
   "metadata": {},
   "outputs": [
    {
     "name": "stdout",
     "output_type": "stream",
     "text": [
      "{'usb': '2', 'cpu': '12', 'monitor': '20'}\n"
     ]
    }
   ],
   "source": [
    "del first_dict['keyboard']\n",
    "\n",
    "print first_dict"
   ]
  },
  {
   "cell_type": "markdown",
   "metadata": {},
   "source": [
    "What I Did and Learnt?\n",
    "\n",
    "I deleted a key-value pair(keyboard=15) from the first_dict."
   ]
  },
  {
   "cell_type": "markdown",
   "metadata": {},
   "source": [
    "# Merge a dict with another dict"
   ]
  },
  {
   "cell_type": "code",
   "execution_count": 9,
   "metadata": {},
   "outputs": [
    {
     "name": "stdout",
     "output_type": "stream",
     "text": [
      "{'q': 2, 'r': 3, 'monitor': 1}\n"
     ]
    }
   ],
   "source": [
    "second_dict = {'monitor':1 , 'q':2,'r':3 }\n",
    "print second_dict"
   ]
  },
  {
   "cell_type": "code",
   "execution_count": 10,
   "metadata": {},
   "outputs": [
    {
     "name": "stdout",
     "output_type": "stream",
     "text": [
      "{'q': 2, 'r': 3, 'usb': '2', 'cpu': '12', 'monitor': 1}\n"
     ]
    }
   ],
   "source": [
    "first_dict.update(second_dict)\n",
    "print first_dict"
   ]
  },
  {
   "cell_type": "markdown",
   "metadata": {},
   "source": [
    "What I Did and Learnt?\n",
    "\n",
    "I created a second_dict and merged it with the first_dict, And to check what happens when both the dict has same key names, I created a similar key in both the dicts and the value is replaced by the second_dict key-value, I understood that when there is a similar key and when we try to merge, then the key-value is overwritten by the newly created dict(In my case second_dict)."
   ]
  },
  {
   "cell_type": "markdown",
   "metadata": {},
   "source": [
    "# Dictionaries Loop over(keys)"
   ]
  },
  {
   "cell_type": "code",
   "execution_count": 18,
   "metadata": {},
   "outputs": [
    {
     "name": "stdout",
     "output_type": "stream",
     "text": [
      "['q', 'r', 'usb', 'cpu', 'monitor']\n"
     ]
    }
   ],
   "source": [
    "keys=[]\n",
    "for i in first_dict.keys():\n",
    "    keys.append(i)\n",
    "print keys\n"
   ]
  },
  {
   "cell_type": "markdown",
   "metadata": {},
   "source": [
    "What I Did and Learnt?\n",
    "\n",
    "I used the method keys() to my dict. I observed only the key are printed from my created dict."
   ]
  },
  {
   "cell_type": "markdown",
   "metadata": {},
   "source": [
    "# Dictionaries Loop over(values)"
   ]
  },
  {
   "cell_type": "markdown",
   "metadata": {},
   "source": [
    "A for loop always iterates over the individual elements of the iterator we give it. dict.items() returns a list-like object of tuples, so every run through the for loop is a new tuple, automatically unpacked into key, value if we define it as such in the for loop."
   ]
  },
  {
   "cell_type": "code",
   "execution_count": 14,
   "metadata": {},
   "outputs": [
    {
     "name": "stdout",
     "output_type": "stream",
     "text": [
      "[2, 3, '2', '12', 1]\n"
     ]
    }
   ],
   "source": [
    "values=[]\n",
    "for i in first_dict.values():\n",
    "    values.append(i)\n",
    "print values"
   ]
  },
  {
   "cell_type": "markdown",
   "metadata": {},
   "source": [
    "What I Did and Learnt?\n",
    "\n",
    "I used the method values() to my dict. I observed only the values of the keys are printed from my created dict."
   ]
  },
  {
   "cell_type": "markdown",
   "metadata": {},
   "source": [
    "# Dictionaries Loop over(items)"
   ]
  },
  {
   "cell_type": "code",
   "execution_count": 15,
   "metadata": {},
   "outputs": [
    {
     "name": "stdout",
     "output_type": "stream",
     "text": [
      "['monitor', 'keyboard', 'cpu', ('q', 2), ('r', 3), ('usb', '2'), ('cpu', '12'), ('monitor', 1)]\n"
     ]
    }
   ],
   "source": [
    "item=[]\n",
    "for i in first_dict.items():\n",
    "    items.append(i)\n",
    "print items"
   ]
  },
  {
   "cell_type": "markdown",
   "metadata": {},
   "source": [
    "What I Did and Learnt?\n",
    "\n",
    "I used the method items() to my dict. I observed that both the key-value are printed from my created dict."
   ]
  },
  {
   "cell_type": "markdown",
   "metadata": {},
   "source": [
    "# Built-in Dictionary Functions & Methods "
   ]
  },
  {
   "cell_type": "code",
   "execution_count": 19,
   "metadata": {},
   "outputs": [
    {
     "data": {
      "text/plain": [
       "1"
      ]
     },
     "execution_count": 19,
     "metadata": {},
     "output_type": "execute_result"
    }
   ],
   "source": [
    "cmp(first_dict, second_dict)"
   ]
  },
  {
   "cell_type": "markdown",
   "metadata": {},
   "source": [
    "Compares elements of both dict."
   ]
  },
  {
   "cell_type": "code",
   "execution_count": 20,
   "metadata": {},
   "outputs": [
    {
     "data": {
      "text/plain": [
       "5"
      ]
     },
     "execution_count": 20,
     "metadata": {},
     "output_type": "execute_result"
    }
   ],
   "source": [
    "len(first_dict)"
   ]
  },
  {
   "cell_type": "markdown",
   "metadata": {},
   "source": [
    "Gives the total length of the dictionary. This would be equal to the number of items in the dictionary."
   ]
  },
  {
   "cell_type": "code",
   "execution_count": 21,
   "metadata": {},
   "outputs": [
    {
     "data": {
      "text/plain": [
       "\"{'q': 2, 'r': 3, 'monitor': 1}\""
      ]
     },
     "execution_count": 21,
     "metadata": {},
     "output_type": "execute_result"
    }
   ],
   "source": [
    "str(second_dict)"
   ]
  },
  {
   "cell_type": "markdown",
   "metadata": {},
   "source": [
    "Produces a printable string representation of a dictionary"
   ]
  },
  {
   "cell_type": "code",
   "execution_count": 22,
   "metadata": {},
   "outputs": [
    {
     "data": {
      "text/plain": [
       "dict"
      ]
     },
     "execution_count": 22,
     "metadata": {},
     "output_type": "execute_result"
    }
   ],
   "source": [
    "type(first_dict)"
   ]
  },
  {
   "cell_type": "markdown",
   "metadata": {},
   "source": [
    "Returns the type of the passed variable. If passed variable is dictionary, then it would return a dictionary type."
   ]
  },
  {
   "cell_type": "markdown",
   "metadata": {},
   "source": [
    "# Methods "
   ]
  },
  {
   "cell_type": "markdown",
   "metadata": {},
   "source": [
    "Using clear() method- Removes all elements of dictionary created."
   ]
  },
  {
   "cell_type": "code",
   "execution_count": 23,
   "metadata": {},
   "outputs": [
    {
     "name": "stdout",
     "output_type": "stream",
     "text": [
      "{'Age': 7, 'Name': 'Zara', 'Class': 'First'}\n"
     ]
    }
   ],
   "source": [
    "third_dict={'Name': 'Zara', 'Age': 7, 'Class': 'First'}\n",
    "print third_dict"
   ]
  },
  {
   "cell_type": "code",
   "execution_count": 25,
   "metadata": {},
   "outputs": [
    {
     "name": "stdout",
     "output_type": "stream",
     "text": [
      "{}\n"
     ]
    }
   ],
   "source": [
    "third_dict.clear()\n",
    "print third_dict"
   ]
  },
  {
   "cell_type": "markdown",
   "metadata": {},
   "source": [
    "Using copy()- Returns a shallow copy of dictionary created"
   ]
  },
  {
   "cell_type": "code",
   "execution_count": 27,
   "metadata": {},
   "outputs": [
    {
     "data": {
      "text/plain": [
       "{'cpu': '12', 'monitor': 1, 'q': 2, 'r': 3, 'usb': '2'}"
      ]
     },
     "execution_count": 27,
     "metadata": {},
     "output_type": "execute_result"
    }
   ],
   "source": [
    "first_dict.copy()"
   ]
  }
 ],
 "metadata": {
  "kernelspec": {
   "display_name": "Python 2",
   "language": "python",
   "name": "python2"
  },
  "language_info": {
   "codemirror_mode": {
    "name": "ipython",
    "version": 2
   },
   "file_extension": ".py",
   "mimetype": "text/x-python",
   "name": "python",
   "nbconvert_exporter": "python",
   "pygments_lexer": "ipython2",
   "version": "2.7.13"
  }
 },
 "nbformat": 4,
 "nbformat_minor": 2
}
