{
 "cells": [
  {
   "cell_type": "markdown",
   "metadata": {},
   "source": [
    "# Demonstration of Lists using for, if and lambda."
   ]
  },
  {
   "cell_type": "code",
   "execution_count": 20,
   "metadata": {},
   "outputs": [
    {
     "name": "stdout",
     "output_type": "stream",
     "text": [
      "<type 'list'>\n",
      "(13, 105)\n"
     ]
    }
   ],
   "source": [
    "y= [12,13,99,105] #list\n",
    "print(type(y))\n",
    "print (y[1],y[3])\n",
    "    "
   ]
  },
  {
   "cell_type": "markdown",
   "metadata": {},
   "source": [
    "What I Did and Learnt?\n",
    "\n",
    "I showed an example of a list, I learnt that lists must be in [] braces where as tuples can be in () braces or no braces needed for it.  "
   ]
  },
  {
   "cell_type": "markdown",
   "metadata": {},
   "source": [
    "#  USING FOR LOOP"
   ]
  },
  {
   "cell_type": "code",
   "execution_count": 21,
   "metadata": {},
   "outputs": [
    {
     "name": "stdout",
     "output_type": "stream",
     "text": [
      "1\n",
      "2\n",
      "3\n",
      "4\n"
     ]
    }
   ],
   "source": [
    "for i in [1,2,3,4]:\n",
    "    print i"
   ]
  },
  {
   "cell_type": "markdown",
   "metadata": {},
   "source": [
    "What I Did ?\n",
    "\n",
    "I showed an example of lists using for loop. "
   ]
  },
  {
   "cell_type": "markdown",
   "metadata": {},
   "source": [
    "# USING IF STATEMENT"
   ]
  },
  {
   "cell_type": "code",
   "execution_count": 7,
   "metadata": {},
   "outputs": [
    {
     "name": "stdout",
     "output_type": "stream",
     "text": [
      "441\n"
     ]
    }
   ],
   "source": [
    "example=[12, 13, 99, 105, 98, 69, 45, 9, 1]\n",
    "add=0\n",
    "for x in example:\n",
    "    if x > 10:\n",
    "        add +=x\n",
    "print add\n"
   ]
  },
  {
   "cell_type": "markdown",
   "metadata": {},
   "source": [
    "What I Did?\n",
    "\n",
    "I showed an example of lists using if statement."
   ]
  },
  {
   "cell_type": "markdown",
   "metadata": {},
   "source": [
    "# USING LAMBDA FUNCTION"
   ]
  },
  {
   "cell_type": "code",
   "execution_count": 9,
   "metadata": {},
   "outputs": [
    {
     "name": "stdout",
     "output_type": "stream",
     "text": [
      "[1, 4, 16, 25]\n"
     ]
    }
   ],
   "source": [
    "example = map(lambda x: x**2,[1,2,4,5])\n",
    "print(example)\n"
   ]
  },
  {
   "cell_type": "markdown",
   "metadata": {},
   "source": [
    "What I Did and Learnt?\n",
    "\n",
    "I showed an example of lists using Lambda function. I learnt what is lambda function and how to use it."
   ]
  },
  {
   "cell_type": "markdown",
   "metadata": {},
   "source": [
    "# To show lists are mutable. Below is the example"
   ]
  },
  {
   "cell_type": "code",
   "execution_count": 19,
   "metadata": {},
   "outputs": [
    {
     "name": "stdout",
     "output_type": "stream",
     "text": [
      "[17, 18, 100, 106, 99, 70, 46, 14, 6]\n"
     ]
    }
   ],
   "source": [
    "example = [12, 13, 99, 105, 98, 69, 45, 9, 1]\n",
    "print[x+1 if x >= 45 else x+5 for x in example]\n"
   ]
  },
  {
   "cell_type": "markdown",
   "metadata": {},
   "source": [
    "What I Did and Learnt?\n",
    "\n",
    "I showed an example where the values of the lists are changed in the output, I learnt that lists are mutable which means the values of lists can be changed. "
   ]
  },
  {
   "cell_type": "markdown",
   "metadata": {},
   "source": [
    "# Demonstration of Tuples using for, if and lambda."
   ]
  },
  {
   "cell_type": "code",
   "execution_count": 10,
   "metadata": {},
   "outputs": [
    {
     "name": "stdout",
     "output_type": "stream",
     "text": [
      "<type 'tuple'>\n",
      "(13, 99)\n"
     ]
    }
   ],
   "source": [
    "x= 12,13,99,105    #Tuple\n",
    "print(type(x))\n",
    "print (x[1],x[2])"
   ]
  },
  {
   "cell_type": "markdown",
   "metadata": {},
   "source": [
    "What I Did and Learnt?\n",
    "\n",
    "I showed an example of a Tuple, I learnt that tuples can be in () braces or no braces needed for it."
   ]
  },
  {
   "cell_type": "markdown",
   "metadata": {},
   "source": [
    "# USING FOR LOOP"
   ]
  },
  {
   "cell_type": "code",
   "execution_count": 22,
   "metadata": {},
   "outputs": [
    {
     "name": "stdout",
     "output_type": "stream",
     "text": [
      "1\n",
      "2\n",
      "3\n",
      "4\n"
     ]
    }
   ],
   "source": [
    "for i in (1,2,3,4):\n",
    "    print i"
   ]
  },
  {
   "cell_type": "markdown",
   "metadata": {},
   "source": [
    "What I Did and Learnt?\n",
    "\n",
    "I showed an example of tuple using for loop, It works same as lists since the values are not changing."
   ]
  },
  {
   "cell_type": "markdown",
   "metadata": {},
   "source": [
    "# USING IF STATEMENT"
   ]
  },
  {
   "cell_type": "code",
   "execution_count": 12,
   "metadata": {},
   "outputs": [
    {
     "name": "stdout",
     "output_type": "stream",
     "text": [
      "441\n"
     ]
    }
   ],
   "source": [
    "example=(12, 13, 99, 105, 98, 69, 45, 9, 1)\n",
    "add=0\n",
    "for x in example:\n",
    "    if x > 10:\n",
    "        add +=x\n",
    "print add"
   ]
  },
  {
   "cell_type": "markdown",
   "metadata": {},
   "source": [
    "What I Did and Learnt?\n",
    "\n",
    "I showed an example of tuples using if statement. Here thew output is for the add variable, the tuple is not changed."
   ]
  },
  {
   "cell_type": "markdown",
   "metadata": {},
   "source": [
    "# USING LAMBDA FUNCTION"
   ]
  },
  {
   "cell_type": "code",
   "execution_count": 16,
   "metadata": {},
   "outputs": [
    {
     "name": "stdout",
     "output_type": "stream",
     "text": [
      "((7, 10), (9, 20))\n"
     ]
    }
   ],
   "source": [
    "example=((0,5),(7,10),(9,20),(18,22))\n",
    "example=filter(lambda x: x[0]>6 and x[1]<21, example)\n",
    "print(example)"
   ]
  },
  {
   "cell_type": "markdown",
   "metadata": {},
   "source": [
    "What I Did and Learnt?\n",
    "\n",
    "I showed an example of tuples using  Lambda function, Here i din't try to change the values of the tuple instead i filtered the values using filter function. But in the below example I din't understand why my output is a list, I dont know if that is a default sign. "
   ]
  },
  {
   "cell_type": "code",
   "execution_count": 17,
   "metadata": {},
   "outputs": [
    {
     "name": "stdout",
     "output_type": "stream",
     "text": [
      "[1, 4, 16, 25]\n"
     ]
    }
   ],
   "source": [
    "example = map(lambda x: x**2,(1,2,4,5))\n",
    "print(example)\n"
   ]
  },
  {
   "cell_type": "markdown",
   "metadata": {},
   "source": [
    "# To show Tuples are immutable. Below is the example"
   ]
  },
  {
   "cell_type": "code",
   "execution_count": 14,
   "metadata": {
    "scrolled": true
   },
   "outputs": [
    {
     "name": "stdout",
     "output_type": "stream",
     "text": [
      "<generator object <genexpr> at 0x0000000005BDAB88>\n"
     ]
    }
   ],
   "source": [
    "example = (12, 13, 99, 105, 98, 69, 45, 9, 1)\n",
    "print(x+1 if x >= 45 else x+5 for x in example)"
   ]
  },
  {
   "cell_type": "markdown",
   "metadata": {},
   "source": [
    "What I Did and Learnt?\n",
    "\n",
    "I tried to change the values of the tuples but the operation failed since tuples are immutable."
   ]
  }
 ],
 "metadata": {
  "kernelspec": {
   "display_name": "Python 2",
   "language": "python",
   "name": "python2"
  },
  "language_info": {
   "codemirror_mode": {
    "name": "ipython",
    "version": 2
   },
   "file_extension": ".py",
   "mimetype": "text/x-python",
   "name": "python",
   "nbconvert_exporter": "python",
   "pygments_lexer": "ipython2",
   "version": "2.7.13"
  }
 },
 "nbformat": 4,
 "nbformat_minor": 2
}
