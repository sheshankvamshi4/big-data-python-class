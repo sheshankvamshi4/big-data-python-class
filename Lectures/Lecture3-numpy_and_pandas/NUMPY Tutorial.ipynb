{
 "cells": [
  {
   "cell_type": "markdown",
   "metadata": {},
   "source": [
    "# NUMPY Tutorial \n",
    "\n",
    "https://docs.scipy.org/doc/numpy-dev/,\n",
    "https://www.python-course.eu/numpy.php/\n",
    "\n",
    "## What is NUMPY?\n",
    "NumPy is an acronym for \"Numeric Python\" or \"Numerical Python\"\n",
    "A python package that supports the creation and manipulation of n-dimensional arrays (ndarray) of homogeneous data types.\n",
    "Numpy objects are fixed at creation, adjusting the size creates a new object.\n",
    "The objects in the array must all have the same type ( You can defeat this somewhat in that if you create numbpy array of lists, the lists themselves can contain different objects)\n",
    "\n",
    "This means that mathematical operations can happen quickly since the size and type of the array elements are fixed.\n",
    "Numbpy was designed for using large arrays and matrices.\n",
    "SciPy (Scientific Python) extends the use of the numby ndarray's with advanced fucntions: minimization, regression, Fourier-transformation, ...\n",
    "\n",
    "\n",
    "## Setting up\n",
    "\n",
    "If you already have python and pip installed the use:\n",
    " \n",
    "pip install numpy scipy\n",
    "\n",
    "Or follow the intstructions from http://www.numpy.org/ or https://docs.scipy.org/doc/numpy-dev/user/index.html#user\n",
    "\n",
    "## Using NUMBPY\n",
    "Import it to use it"
   ]
  },
  {
   "cell_type": "code",
   "execution_count": 1,
   "metadata": {},
   "outputs": [
    {
     "name": "stdout",
     "output_type": "stream",
     "text": [
      "[ 25.3  24.8  26.9  23.9]\n"
     ]
    }
   ],
   "source": [
    "#import numbpy\n",
    "import numpy as np\n",
    "# One dimensional array\n",
    "cvalues = [25.3, 24.8, 26.9, 23.9]\n",
    "c=np.array(cvalues)\n",
    "print (c)"
   ]
  },
  {
   "cell_type": "code",
   "execution_count": 6,
   "metadata": {},
   "outputs": [
    {
     "name": "stdout",
     "output_type": "stream",
     "text": [
      "list expression result=[77.54, 76.64, 80.42, 75.02]\n",
      "numbpy broadcast result=[ 77.54  76.64  80.42  75.02]\n"
     ]
    }
   ],
   "source": [
    "# Assume they are celsius measurements that we want to  convert to Fahrenheit\n",
    "# List expression evaluation\n",
    "print \"list expression result=\"+str([ x*9/5+32 for x in cvalues] )\n",
    "print \"numbpy broadcast result=\"+str(c*9/5+32)  # simpler syntax"
   ]
  },
  {
   "cell_type": "markdown",
   "metadata": {},
   "source": [
    "## Creating ranges using NUMBPY\n",
    "\n",
    "Python ranges\n",
    "range([start], stop[, step])\n",
    "vs xrange \n",
    "Renames xrange() to range() and wraps existing range() calls with list\n",
    "\n",
    "\n",
    "np.arange([start,] stop[, step,], dtype=None)  the stop value is not include in the numbers returned. Default step is one, the dtype is based on the start number format unless specified in dtype."
   ]
  },
  {
   "cell_type": "code",
   "execution_count": 12,
   "metadata": {},
   "outputs": [
    {
     "data": {
      "text/plain": [
       "[1, 3, 5, 7, 9, 11, 13]"
      ]
     },
     "execution_count": 12,
     "metadata": {},
     "output_type": "execute_result"
    }
   ],
   "source": [
    "range(1,15,2)  # operates on integers only"
   ]
  },
  {
   "cell_type": "code",
   "execution_count": null,
   "metadata": {
    "collapsed": true
   },
   "outputs": [],
   "source": []
  },
  {
   "cell_type": "code",
   "execution_count": 8,
   "metadata": {},
   "outputs": [
    {
     "data": {
      "text/plain": [
       "array([ -1.5   ,   1.6415,   4.783 ,   7.9245,  11.066 ,  14.2075])"
      ]
     },
     "execution_count": 8,
     "metadata": {},
     "output_type": "execute_result"
    }
   ],
   "source": [
    "np.arange(-1.5,15,3.1415)  # can create any sequence of numbers"
   ]
  },
  {
   "cell_type": "code",
   "execution_count": 25,
   "metadata": {},
   "outputs": [
    {
     "data": {
      "text/plain": [
       "array([ 1. -2.5j,  2. -6.5j,  3.-10.5j])"
      ]
     },
     "execution_count": 25,
     "metadata": {},
     "output_type": "execute_result"
    }
   ],
   "source": [
    "np.arange((1.0-2.5j),50,(1-4j))  #Even complex number sequences"
   ]
  },
  {
   "cell_type": "markdown",
   "metadata": {},
   "source": [
    "## NUMPY objects\n",
    "https://docs.scipy.org/doc/numpy-dev/reference/index.html#reference\n",
    "\n",
    "3. Array objects\n",
    "   \n",
    "   a. N-dimensional array\n",
    "    https://docs.scipy.org/doc/numpy-dev/reference/arrays.ndarray.html\n",
    "   \n",
    "   b. scalars\n",
    "    https://docs.scipy.org/doc/numpy-dev/reference/arrays.scalars.html\n",
    "   \n",
    "   c. indexing\n",
    "    https://docs.scipy.org/doc/numpy-dev/reference/arrays.indexing.html\n",
    "   \n",
    "   d. interating over arrays\n",
    "    https://docs.scipy.org/doc/numpy-dev/reference/arrays.nditer.html\n",
    "   \n",
    "   e. Standard array subclasses\n",
    "    https://docs.scipy.org/doc/numpy-dev/reference/arrays.classes.html\n",
    "   \n",
    "   f. the array interface\n",
    "    https://docs.scipy.org/doc/numpy-dev/reference/arrays.interface.html\n",
    "   \n",
    "   g. datetimes and timedeltas\n",
    "    https://docs.scipy.org/doc/numpy-dev/reference/arrays.datetime.html\n",
    "    \n"
   ]
  },
  {
   "cell_type": "markdown",
   "metadata": {},
   "source": [
    "## NUMPY Universal functions (ufunc)\n",
    "    a. broadcasting\n",
    "    b. output type\n",
    "    c. internal buffers\n",
    "    d. error handling\n",
    "    e. casting rules\n",
    "    f. overriding ufunc\n",
    "    g. avalable ufuncs\n",
    "## NUMPY Routines Routines\n",
    "    a. "
   ]
  },
  {
   "cell_type": "code",
   "execution_count": null,
   "metadata": {
    "collapsed": true
   },
   "outputs": [],
   "source": []
  }
 ],
 "metadata": {
  "kernelspec": {
   "display_name": "Python 2",
   "language": "python",
   "name": "python2"
  },
  "language_info": {
   "codemirror_mode": {
    "name": "ipython",
    "version": 2
   },
   "file_extension": ".py",
   "mimetype": "text/x-python",
   "name": "python",
   "nbconvert_exporter": "python",
   "pygments_lexer": "ipython2",
   "version": "2.7.10"
  }
 },
 "nbformat": 4,
 "nbformat_minor": 2
}
